{
 "cells": [
  {
   "cell_type": "markdown",
   "id": "7663f4f6",
   "metadata": {
    "ExecuteTime": {
     "end_time": "2022-10-09T23:45:22.271180Z",
     "start_time": "2022-10-09T23:45:20.436157Z"
    }
   },
   "source": [
    "# Libraries"
   ]
  },
  {
   "cell_type": "code",
   "execution_count": 1,
   "id": "5c1456ec",
   "metadata": {
    "ExecuteTime": {
     "end_time": "2023-09-10T20:39:55.637185Z",
     "start_time": "2023-09-10T20:39:35.267009Z"
    }
   },
   "outputs": [],
   "source": [
    "#Bibliotecas\n",
    "import numpy as np\n",
    "import pandas as pd\n",
    "import matplotlib.pyplot as plt\n",
    "import seaborn as sns\n",
    "\n",
    "sns.set_style('darkgrid')\n",
    "%matplotlib inline\n",
    "\n",
    "from statsmodels.tsa.seasonal import seasonal_decompose\n",
    "from statsmodels.graphics import tsaplots\n",
    "from statsmodels.tsa.stattools import adfuller\n",
    "from statsmodels.tsa.arima.model import ARIMA\n",
    "from pmdarima.arima import auto_arima\n",
    "import statsmodels.api as sm\n",
    "import itertools\n",
    "from sklearn.metrics import mean_absolute_percentage_error, mean_squared_error\n",
    "\n",
    "\n",
    "\n",
    "\n",
    "import warnings\n",
    "warnings.filterwarnings('ignore')"
   ]
  },
  {
   "cell_type": "markdown",
   "id": "1a3ec08c",
   "metadata": {},
   "source": [
    "# Loading the Data"
   ]
  },
  {
   "cell_type": "code",
   "execution_count": 64,
   "id": "e3682efc",
   "metadata": {
    "ExecuteTime": {
     "end_time": "2023-09-10T21:07:31.168573Z",
     "start_time": "2023-09-10T21:07:29.605047Z"
    }
   },
   "outputs": [
    {
     "data": {
      "text/html": [
       "<div>\n",
       "<style scoped>\n",
       "    .dataframe tbody tr th:only-of-type {\n",
       "        vertical-align: middle;\n",
       "    }\n",
       "\n",
       "    .dataframe tbody tr th {\n",
       "        vertical-align: top;\n",
       "    }\n",
       "\n",
       "    .dataframe thead th {\n",
       "        text-align: right;\n",
       "    }\n",
       "</style>\n",
       "<table border=\"1\" class=\"dataframe\">\n",
       "  <thead>\n",
       "    <tr style=\"text-align: right;\">\n",
       "      <th></th>\n",
       "      <th>Fecha</th>\n",
       "      <th>Preço Médio Espanha</th>\n",
       "      <th>Preço Médio Portugal</th>\n",
       "      <th>Dif Esp_PT</th>\n",
       "      <th>Market_Splitting</th>\n",
       "      <th>lEnergia total (MWh)</th>\n",
       "      <th>Temperatura média (º F)</th>\n",
       "      <th>Velocidade média do vento (mph)</th>\n",
       "      <th>Year</th>\n",
       "      <th>PetrleoBrentltimo</th>\n",
       "      <th>...</th>\n",
       "      <th>MGM1k</th>\n",
       "      <th>Petroleo Brent</th>\n",
       "      <th>Nuclear</th>\n",
       "      <th>Primavera</th>\n",
       "      <th>Verão</th>\n",
       "      <th>Outono</th>\n",
       "      <th>Inverno</th>\n",
       "      <th>MPetróleo Brent - Último</th>\n",
       "      <th>MGás Natural (NGM1) - último</th>\n",
       "      <th>Pressão Atmosférica Média</th>\n",
       "    </tr>\n",
       "  </thead>\n",
       "  <tbody>\n",
       "    <tr>\n",
       "      <th>0</th>\n",
       "      <td>2018-04-01</td>\n",
       "      <td>25.94</td>\n",
       "      <td>26.18</td>\n",
       "      <td>-0.24</td>\n",
       "      <td>Sim</td>\n",
       "      <td>5.711499</td>\n",
       "      <td>57.233333</td>\n",
       "      <td>7.785714</td>\n",
       "      <td>2018.0</td>\n",
       "      <td>NaN</td>\n",
       "      <td>...</td>\n",
       "      <td>0.0</td>\n",
       "      <td>0.0</td>\n",
       "      <td>0.0</td>\n",
       "      <td>1.0</td>\n",
       "      <td>0.0</td>\n",
       "      <td>0.0</td>\n",
       "      <td>0.0</td>\n",
       "      <td>67.64</td>\n",
       "      <td>46.92</td>\n",
       "      <td>29.085714</td>\n",
       "    </tr>\n",
       "    <tr>\n",
       "      <th>1</th>\n",
       "      <td>2018-04-02</td>\n",
       "      <td>28.39</td>\n",
       "      <td>28.39</td>\n",
       "      <td>0.00</td>\n",
       "      <td>Não</td>\n",
       "      <td>5.775289</td>\n",
       "      <td>58.833333</td>\n",
       "      <td>10.957143</td>\n",
       "      <td>2018.0</td>\n",
       "      <td>67.64</td>\n",
       "      <td>...</td>\n",
       "      <td>0.0</td>\n",
       "      <td>0.0</td>\n",
       "      <td>0.0</td>\n",
       "      <td>1.0</td>\n",
       "      <td>0.0</td>\n",
       "      <td>0.0</td>\n",
       "      <td>0.0</td>\n",
       "      <td>67.64</td>\n",
       "      <td>46.92</td>\n",
       "      <td>28.900000</td>\n",
       "    </tr>\n",
       "    <tr>\n",
       "      <th>2</th>\n",
       "      <td>2018-04-03</td>\n",
       "      <td>31.08</td>\n",
       "      <td>31.08</td>\n",
       "      <td>0.00</td>\n",
       "      <td>Não</td>\n",
       "      <td>5.827235</td>\n",
       "      <td>60.566667</td>\n",
       "      <td>14.642857</td>\n",
       "      <td>2018.0</td>\n",
       "      <td>68.12</td>\n",
       "      <td>...</td>\n",
       "      <td>0.0</td>\n",
       "      <td>0.0</td>\n",
       "      <td>0.0</td>\n",
       "      <td>1.0</td>\n",
       "      <td>0.0</td>\n",
       "      <td>0.0</td>\n",
       "      <td>0.0</td>\n",
       "      <td>68.12</td>\n",
       "      <td>46.92</td>\n",
       "      <td>28.857143</td>\n",
       "    </tr>\n",
       "    <tr>\n",
       "      <th>3</th>\n",
       "      <td>2018-04-04</td>\n",
       "      <td>31.03</td>\n",
       "      <td>31.03</td>\n",
       "      <td>0.00</td>\n",
       "      <td>Não</td>\n",
       "      <td>5.833591</td>\n",
       "      <td>60.566667</td>\n",
       "      <td>11.428571</td>\n",
       "      <td>2018.0</td>\n",
       "      <td>68.02</td>\n",
       "      <td>...</td>\n",
       "      <td>0.0</td>\n",
       "      <td>0.0</td>\n",
       "      <td>0.0</td>\n",
       "      <td>1.0</td>\n",
       "      <td>0.0</td>\n",
       "      <td>0.0</td>\n",
       "      <td>0.0</td>\n",
       "      <td>68.02</td>\n",
       "      <td>47.18</td>\n",
       "      <td>28.900000</td>\n",
       "    </tr>\n",
       "    <tr>\n",
       "      <th>4</th>\n",
       "      <td>2018-04-05</td>\n",
       "      <td>48.13</td>\n",
       "      <td>48.13</td>\n",
       "      <td>0.00</td>\n",
       "      <td>Não</td>\n",
       "      <td>5.804138</td>\n",
       "      <td>58.700000</td>\n",
       "      <td>7.171429</td>\n",
       "      <td>2018.0</td>\n",
       "      <td>68.33</td>\n",
       "      <td>...</td>\n",
       "      <td>0.0</td>\n",
       "      <td>0.0</td>\n",
       "      <td>0.0</td>\n",
       "      <td>1.0</td>\n",
       "      <td>0.0</td>\n",
       "      <td>0.0</td>\n",
       "      <td>0.0</td>\n",
       "      <td>68.33</td>\n",
       "      <td>46.97</td>\n",
       "      <td>29.171429</td>\n",
       "    </tr>\n",
       "  </tbody>\n",
       "</table>\n",
       "<p>5 rows × 23 columns</p>\n",
       "</div>"
      ],
      "text/plain": [
       "       Fecha  Preço Médio Espanha  Preço Médio Portugal  Dif Esp_PT  \\\n",
       "0 2018-04-01                25.94                 26.18       -0.24   \n",
       "1 2018-04-02                28.39                 28.39        0.00   \n",
       "2 2018-04-03                31.08                 31.08        0.00   \n",
       "3 2018-04-04                31.03                 31.03        0.00   \n",
       "4 2018-04-05                48.13                 48.13        0.00   \n",
       "\n",
       "  Market_Splitting  lEnergia total (MWh)  Temperatura média (º F)  \\\n",
       "0              Sim              5.711499                57.233333   \n",
       "1              Não              5.775289                58.833333   \n",
       "2              Não              5.827235                60.566667   \n",
       "3              Não              5.833591                60.566667   \n",
       "4              Não              5.804138                58.700000   \n",
       "\n",
       "   Velocidade média do vento (mph)    Year  PetrleoBrentltimo  ...  MGM1k  \\\n",
       "0                         7.785714  2018.0                NaN  ...    0.0   \n",
       "1                        10.957143  2018.0              67.64  ...    0.0   \n",
       "2                        14.642857  2018.0              68.12  ...    0.0   \n",
       "3                        11.428571  2018.0              68.02  ...    0.0   \n",
       "4                         7.171429  2018.0              68.33  ...    0.0   \n",
       "\n",
       "   Petroleo Brent  Nuclear  Primavera  Verão  Outono  Inverno  \\\n",
       "0             0.0      0.0        1.0    0.0     0.0      0.0   \n",
       "1             0.0      0.0        1.0    0.0     0.0      0.0   \n",
       "2             0.0      0.0        1.0    0.0     0.0      0.0   \n",
       "3             0.0      0.0        1.0    0.0     0.0      0.0   \n",
       "4             0.0      0.0        1.0    0.0     0.0      0.0   \n",
       "\n",
       "   MPetróleo Brent - Último  MGás Natural (NGM1) - último  \\\n",
       "0                     67.64                         46.92   \n",
       "1                     67.64                         46.92   \n",
       "2                     68.12                         46.92   \n",
       "3                     68.02                         47.18   \n",
       "4                     68.33                         46.97   \n",
       "\n",
       "   Pressão Atmosférica Média  \n",
       "0                  29.085714  \n",
       "1                  28.900000  \n",
       "2                  28.857143  \n",
       "3                  28.900000  \n",
       "4                  29.171429  \n",
       "\n",
       "[5 rows x 23 columns]"
      ]
     },
     "execution_count": 64,
     "metadata": {},
     "output_type": "execute_result"
    }
   ],
   "source": [
    "df = pd.read_excel('Modelo Invest e Mibel_cópia de segurança.xlsx')\n",
    "df.head()"
   ]
  },
  {
   "cell_type": "markdown",
   "id": "9e62414e",
   "metadata": {},
   "source": [
    "# Data Wragling"
   ]
  },
  {
   "cell_type": "code",
   "execution_count": 65,
   "id": "09b27825",
   "metadata": {
    "ExecuteTime": {
     "end_time": "2023-09-10T21:07:31.199099Z",
     "start_time": "2023-09-10T21:07:31.172512Z"
    }
   },
   "outputs": [
    {
     "name": "stdout",
     "output_type": "stream",
     "text": [
      "<class 'pandas.core.frame.DataFrame'>\n",
      "RangeIndex: 1126 entries, 0 to 1125\n",
      "Data columns (total 23 columns):\n",
      " #   Column                           Non-Null Count  Dtype         \n",
      "---  ------                           --------------  -----         \n",
      " 0   Fecha                            1096 non-null   datetime64[ns]\n",
      " 1   Preço Médio Espanha              1096 non-null   float64       \n",
      " 2   Preço Médio Portugal             1096 non-null   float64       \n",
      " 3   Dif Esp_PT                       1096 non-null   float64       \n",
      " 4   Market_Splitting                 1096 non-null   object        \n",
      " 5   lEnergia total (MWh)             1096 non-null   float64       \n",
      " 6   Temperatura média (º F)          1096 non-null   float64       \n",
      " 7   Velocidade média do vento (mph)  1096 non-null   float64       \n",
      " 8   Year                             1096 non-null   float64       \n",
      " 9   PetrleoBrentltimo                775 non-null    float64       \n",
      " 10  GsNaturalNGK1ltimo               790 non-null    float64       \n",
      " 11  GsNaturalNGK1VolumeK             757 non-null    float64       \n",
      " 12  Sazonal Hiadraulica              1096 non-null   float64       \n",
      " 13  MGM1k                            1095 non-null   float64       \n",
      " 14  Petroleo Brent                   1096 non-null   float64       \n",
      " 15  Nuclear                          1096 non-null   float64       \n",
      " 16  Primavera                        1096 non-null   float64       \n",
      " 17  Verão                            1096 non-null   float64       \n",
      " 18  Outono                           1096 non-null   float64       \n",
      " 19  Inverno                          1096 non-null   float64       \n",
      " 20  MPetróleo Brent - Último         1096 non-null   float64       \n",
      " 21  MGás Natural (NGM1) - último     1096 non-null   float64       \n",
      " 22  Pressão Atmosférica Média        1126 non-null   float64       \n",
      "dtypes: datetime64[ns](1), float64(21), object(1)\n",
      "memory usage: 202.5+ KB\n"
     ]
    }
   ],
   "source": [
    "df.info()"
   ]
  },
  {
   "cell_type": "code",
   "execution_count": 66,
   "id": "6bc4c093",
   "metadata": {
    "ExecuteTime": {
     "end_time": "2023-09-10T21:07:31.234169Z",
     "start_time": "2023-09-10T21:07:31.205121Z"
    }
   },
   "outputs": [],
   "source": [
    "df['col_datetime'] = pd.to_datetime(df['Fecha'], format='%Y-%U')"
   ]
  },
  {
   "cell_type": "code",
   "execution_count": 67,
   "id": "65483575",
   "metadata": {
    "ExecuteTime": {
     "end_time": "2023-09-10T21:07:31.340369Z",
     "start_time": "2023-09-10T21:07:31.241176Z"
    }
   },
   "outputs": [
    {
     "data": {
      "text/html": [
       "<div>\n",
       "<style scoped>\n",
       "    .dataframe tbody tr th:only-of-type {\n",
       "        vertical-align: middle;\n",
       "    }\n",
       "\n",
       "    .dataframe tbody tr th {\n",
       "        vertical-align: top;\n",
       "    }\n",
       "\n",
       "    .dataframe thead th {\n",
       "        text-align: right;\n",
       "    }\n",
       "</style>\n",
       "<table border=\"1\" class=\"dataframe\">\n",
       "  <thead>\n",
       "    <tr style=\"text-align: right;\">\n",
       "      <th></th>\n",
       "      <th>Fecha</th>\n",
       "      <th>Preço Médio Espanha</th>\n",
       "      <th>Preço Médio Portugal</th>\n",
       "      <th>Dif Esp_PT</th>\n",
       "      <th>Market_Splitting</th>\n",
       "      <th>lEnergia total (MWh)</th>\n",
       "      <th>Temperatura média (º F)</th>\n",
       "      <th>Velocidade média do vento (mph)</th>\n",
       "      <th>Year</th>\n",
       "      <th>PetrleoBrentltimo</th>\n",
       "      <th>...</th>\n",
       "      <th>Petroleo Brent</th>\n",
       "      <th>Nuclear</th>\n",
       "      <th>Primavera</th>\n",
       "      <th>Verão</th>\n",
       "      <th>Outono</th>\n",
       "      <th>Inverno</th>\n",
       "      <th>MPetróleo Brent - Último</th>\n",
       "      <th>MGás Natural (NGM1) - último</th>\n",
       "      <th>Pressão Atmosférica Média</th>\n",
       "      <th>col_datetime</th>\n",
       "    </tr>\n",
       "  </thead>\n",
       "  <tbody>\n",
       "    <tr>\n",
       "      <th>0</th>\n",
       "      <td>2018-04-01</td>\n",
       "      <td>25.94</td>\n",
       "      <td>26.18</td>\n",
       "      <td>-0.24</td>\n",
       "      <td>Sim</td>\n",
       "      <td>5.711499</td>\n",
       "      <td>57.233333</td>\n",
       "      <td>7.785714</td>\n",
       "      <td>2018.0</td>\n",
       "      <td>NaN</td>\n",
       "      <td>...</td>\n",
       "      <td>0.0</td>\n",
       "      <td>0.0</td>\n",
       "      <td>1.0</td>\n",
       "      <td>0.0</td>\n",
       "      <td>0.0</td>\n",
       "      <td>0.0</td>\n",
       "      <td>67.64</td>\n",
       "      <td>46.92</td>\n",
       "      <td>29.085714</td>\n",
       "      <td>2018-04-01</td>\n",
       "    </tr>\n",
       "    <tr>\n",
       "      <th>1</th>\n",
       "      <td>2018-04-02</td>\n",
       "      <td>28.39</td>\n",
       "      <td>28.39</td>\n",
       "      <td>0.00</td>\n",
       "      <td>Não</td>\n",
       "      <td>5.775289</td>\n",
       "      <td>58.833333</td>\n",
       "      <td>10.957143</td>\n",
       "      <td>2018.0</td>\n",
       "      <td>67.64</td>\n",
       "      <td>...</td>\n",
       "      <td>0.0</td>\n",
       "      <td>0.0</td>\n",
       "      <td>1.0</td>\n",
       "      <td>0.0</td>\n",
       "      <td>0.0</td>\n",
       "      <td>0.0</td>\n",
       "      <td>67.64</td>\n",
       "      <td>46.92</td>\n",
       "      <td>28.900000</td>\n",
       "      <td>2018-04-02</td>\n",
       "    </tr>\n",
       "    <tr>\n",
       "      <th>2</th>\n",
       "      <td>2018-04-03</td>\n",
       "      <td>31.08</td>\n",
       "      <td>31.08</td>\n",
       "      <td>0.00</td>\n",
       "      <td>Não</td>\n",
       "      <td>5.827235</td>\n",
       "      <td>60.566667</td>\n",
       "      <td>14.642857</td>\n",
       "      <td>2018.0</td>\n",
       "      <td>68.12</td>\n",
       "      <td>...</td>\n",
       "      <td>0.0</td>\n",
       "      <td>0.0</td>\n",
       "      <td>1.0</td>\n",
       "      <td>0.0</td>\n",
       "      <td>0.0</td>\n",
       "      <td>0.0</td>\n",
       "      <td>68.12</td>\n",
       "      <td>46.92</td>\n",
       "      <td>28.857143</td>\n",
       "      <td>2018-04-03</td>\n",
       "    </tr>\n",
       "    <tr>\n",
       "      <th>3</th>\n",
       "      <td>2018-04-04</td>\n",
       "      <td>31.03</td>\n",
       "      <td>31.03</td>\n",
       "      <td>0.00</td>\n",
       "      <td>Não</td>\n",
       "      <td>5.833591</td>\n",
       "      <td>60.566667</td>\n",
       "      <td>11.428571</td>\n",
       "      <td>2018.0</td>\n",
       "      <td>68.02</td>\n",
       "      <td>...</td>\n",
       "      <td>0.0</td>\n",
       "      <td>0.0</td>\n",
       "      <td>1.0</td>\n",
       "      <td>0.0</td>\n",
       "      <td>0.0</td>\n",
       "      <td>0.0</td>\n",
       "      <td>68.02</td>\n",
       "      <td>47.18</td>\n",
       "      <td>28.900000</td>\n",
       "      <td>2018-04-04</td>\n",
       "    </tr>\n",
       "    <tr>\n",
       "      <th>4</th>\n",
       "      <td>2018-04-05</td>\n",
       "      <td>48.13</td>\n",
       "      <td>48.13</td>\n",
       "      <td>0.00</td>\n",
       "      <td>Não</td>\n",
       "      <td>5.804138</td>\n",
       "      <td>58.700000</td>\n",
       "      <td>7.171429</td>\n",
       "      <td>2018.0</td>\n",
       "      <td>68.33</td>\n",
       "      <td>...</td>\n",
       "      <td>0.0</td>\n",
       "      <td>0.0</td>\n",
       "      <td>1.0</td>\n",
       "      <td>0.0</td>\n",
       "      <td>0.0</td>\n",
       "      <td>0.0</td>\n",
       "      <td>68.33</td>\n",
       "      <td>46.97</td>\n",
       "      <td>29.171429</td>\n",
       "      <td>2018-04-05</td>\n",
       "    </tr>\n",
       "  </tbody>\n",
       "</table>\n",
       "<p>5 rows × 24 columns</p>\n",
       "</div>"
      ],
      "text/plain": [
       "       Fecha  Preço Médio Espanha  Preço Médio Portugal  Dif Esp_PT  \\\n",
       "0 2018-04-01                25.94                 26.18       -0.24   \n",
       "1 2018-04-02                28.39                 28.39        0.00   \n",
       "2 2018-04-03                31.08                 31.08        0.00   \n",
       "3 2018-04-04                31.03                 31.03        0.00   \n",
       "4 2018-04-05                48.13                 48.13        0.00   \n",
       "\n",
       "  Market_Splitting  lEnergia total (MWh)  Temperatura média (º F)  \\\n",
       "0              Sim              5.711499                57.233333   \n",
       "1              Não              5.775289                58.833333   \n",
       "2              Não              5.827235                60.566667   \n",
       "3              Não              5.833591                60.566667   \n",
       "4              Não              5.804138                58.700000   \n",
       "\n",
       "   Velocidade média do vento (mph)    Year  PetrleoBrentltimo  ...  \\\n",
       "0                         7.785714  2018.0                NaN  ...   \n",
       "1                        10.957143  2018.0              67.64  ...   \n",
       "2                        14.642857  2018.0              68.12  ...   \n",
       "3                        11.428571  2018.0              68.02  ...   \n",
       "4                         7.171429  2018.0              68.33  ...   \n",
       "\n",
       "   Petroleo Brent  Nuclear  Primavera  Verão  Outono  Inverno  \\\n",
       "0             0.0      0.0        1.0    0.0     0.0      0.0   \n",
       "1             0.0      0.0        1.0    0.0     0.0      0.0   \n",
       "2             0.0      0.0        1.0    0.0     0.0      0.0   \n",
       "3             0.0      0.0        1.0    0.0     0.0      0.0   \n",
       "4             0.0      0.0        1.0    0.0     0.0      0.0   \n",
       "\n",
       "   MPetróleo Brent - Último  MGás Natural (NGM1) - último  \\\n",
       "0                     67.64                         46.92   \n",
       "1                     67.64                         46.92   \n",
       "2                     68.12                         46.92   \n",
       "3                     68.02                         47.18   \n",
       "4                     68.33                         46.97   \n",
       "\n",
       "   Pressão Atmosférica Média  col_datetime  \n",
       "0                  29.085714    2018-04-01  \n",
       "1                  28.900000    2018-04-02  \n",
       "2                  28.857143    2018-04-03  \n",
       "3                  28.900000    2018-04-04  \n",
       "4                  29.171429    2018-04-05  \n",
       "\n",
       "[5 rows x 24 columns]"
      ]
     },
     "execution_count": 67,
     "metadata": {},
     "output_type": "execute_result"
    }
   ],
   "source": [
    "df.head()"
   ]
  },
  {
   "cell_type": "code",
   "execution_count": 68,
   "id": "f7b7f917",
   "metadata": {
    "ExecuteTime": {
     "end_time": "2023-09-10T21:07:31.433568Z",
     "start_time": "2023-09-10T21:07:31.348367Z"
    }
   },
   "outputs": [],
   "source": [
    "df['reference_month'] = df['Fecha'].dt.strftime('%Y-%m')\n",
    "\n",
    "df['week_year'] = df['Fecha'].dt.strftime('%Y-%U')\n",
    "\n",
    "df['month'] = df['Fecha'].apply(lambda time: time.month)"
   ]
  },
  {
   "cell_type": "code",
   "execution_count": 69,
   "id": "1ea0d35a",
   "metadata": {
    "ExecuteTime": {
     "end_time": "2023-09-10T21:07:31.526672Z",
     "start_time": "2023-09-10T21:07:31.438569Z"
    }
   },
   "outputs": [
    {
     "data": {
      "text/html": [
       "<div>\n",
       "<style scoped>\n",
       "    .dataframe tbody tr th:only-of-type {\n",
       "        vertical-align: middle;\n",
       "    }\n",
       "\n",
       "    .dataframe tbody tr th {\n",
       "        vertical-align: top;\n",
       "    }\n",
       "\n",
       "    .dataframe thead th {\n",
       "        text-align: right;\n",
       "    }\n",
       "</style>\n",
       "<table border=\"1\" class=\"dataframe\">\n",
       "  <thead>\n",
       "    <tr style=\"text-align: right;\">\n",
       "      <th></th>\n",
       "      <th>Fecha</th>\n",
       "      <th>Preço Médio Espanha</th>\n",
       "      <th>Preço Médio Portugal</th>\n",
       "      <th>Dif Esp_PT</th>\n",
       "      <th>Market_Splitting</th>\n",
       "      <th>lEnergia total (MWh)</th>\n",
       "      <th>Temperatura média (º F)</th>\n",
       "      <th>Velocidade média do vento (mph)</th>\n",
       "      <th>Year</th>\n",
       "      <th>PetrleoBrentltimo</th>\n",
       "      <th>...</th>\n",
       "      <th>Verão</th>\n",
       "      <th>Outono</th>\n",
       "      <th>Inverno</th>\n",
       "      <th>MPetróleo Brent - Último</th>\n",
       "      <th>MGás Natural (NGM1) - último</th>\n",
       "      <th>Pressão Atmosférica Média</th>\n",
       "      <th>col_datetime</th>\n",
       "      <th>reference_month</th>\n",
       "      <th>week_year</th>\n",
       "      <th>month</th>\n",
       "    </tr>\n",
       "  </thead>\n",
       "  <tbody>\n",
       "    <tr>\n",
       "      <th>0</th>\n",
       "      <td>2018-04-01</td>\n",
       "      <td>25.94</td>\n",
       "      <td>26.18</td>\n",
       "      <td>-0.24</td>\n",
       "      <td>Sim</td>\n",
       "      <td>5.711499</td>\n",
       "      <td>57.233333</td>\n",
       "      <td>7.785714</td>\n",
       "      <td>2018.0</td>\n",
       "      <td>NaN</td>\n",
       "      <td>...</td>\n",
       "      <td>0.0</td>\n",
       "      <td>0.0</td>\n",
       "      <td>0.0</td>\n",
       "      <td>67.64</td>\n",
       "      <td>46.92</td>\n",
       "      <td>29.085714</td>\n",
       "      <td>2018-04-01</td>\n",
       "      <td>2018-04</td>\n",
       "      <td>2018-13</td>\n",
       "      <td>4.0</td>\n",
       "    </tr>\n",
       "    <tr>\n",
       "      <th>1</th>\n",
       "      <td>2018-04-02</td>\n",
       "      <td>28.39</td>\n",
       "      <td>28.39</td>\n",
       "      <td>0.00</td>\n",
       "      <td>Não</td>\n",
       "      <td>5.775289</td>\n",
       "      <td>58.833333</td>\n",
       "      <td>10.957143</td>\n",
       "      <td>2018.0</td>\n",
       "      <td>67.64</td>\n",
       "      <td>...</td>\n",
       "      <td>0.0</td>\n",
       "      <td>0.0</td>\n",
       "      <td>0.0</td>\n",
       "      <td>67.64</td>\n",
       "      <td>46.92</td>\n",
       "      <td>28.900000</td>\n",
       "      <td>2018-04-02</td>\n",
       "      <td>2018-04</td>\n",
       "      <td>2018-13</td>\n",
       "      <td>4.0</td>\n",
       "    </tr>\n",
       "    <tr>\n",
       "      <th>2</th>\n",
       "      <td>2018-04-03</td>\n",
       "      <td>31.08</td>\n",
       "      <td>31.08</td>\n",
       "      <td>0.00</td>\n",
       "      <td>Não</td>\n",
       "      <td>5.827235</td>\n",
       "      <td>60.566667</td>\n",
       "      <td>14.642857</td>\n",
       "      <td>2018.0</td>\n",
       "      <td>68.12</td>\n",
       "      <td>...</td>\n",
       "      <td>0.0</td>\n",
       "      <td>0.0</td>\n",
       "      <td>0.0</td>\n",
       "      <td>68.12</td>\n",
       "      <td>46.92</td>\n",
       "      <td>28.857143</td>\n",
       "      <td>2018-04-03</td>\n",
       "      <td>2018-04</td>\n",
       "      <td>2018-13</td>\n",
       "      <td>4.0</td>\n",
       "    </tr>\n",
       "    <tr>\n",
       "      <th>3</th>\n",
       "      <td>2018-04-04</td>\n",
       "      <td>31.03</td>\n",
       "      <td>31.03</td>\n",
       "      <td>0.00</td>\n",
       "      <td>Não</td>\n",
       "      <td>5.833591</td>\n",
       "      <td>60.566667</td>\n",
       "      <td>11.428571</td>\n",
       "      <td>2018.0</td>\n",
       "      <td>68.02</td>\n",
       "      <td>...</td>\n",
       "      <td>0.0</td>\n",
       "      <td>0.0</td>\n",
       "      <td>0.0</td>\n",
       "      <td>68.02</td>\n",
       "      <td>47.18</td>\n",
       "      <td>28.900000</td>\n",
       "      <td>2018-04-04</td>\n",
       "      <td>2018-04</td>\n",
       "      <td>2018-13</td>\n",
       "      <td>4.0</td>\n",
       "    </tr>\n",
       "    <tr>\n",
       "      <th>4</th>\n",
       "      <td>2018-04-05</td>\n",
       "      <td>48.13</td>\n",
       "      <td>48.13</td>\n",
       "      <td>0.00</td>\n",
       "      <td>Não</td>\n",
       "      <td>5.804138</td>\n",
       "      <td>58.700000</td>\n",
       "      <td>7.171429</td>\n",
       "      <td>2018.0</td>\n",
       "      <td>68.33</td>\n",
       "      <td>...</td>\n",
       "      <td>0.0</td>\n",
       "      <td>0.0</td>\n",
       "      <td>0.0</td>\n",
       "      <td>68.33</td>\n",
       "      <td>46.97</td>\n",
       "      <td>29.171429</td>\n",
       "      <td>2018-04-05</td>\n",
       "      <td>2018-04</td>\n",
       "      <td>2018-13</td>\n",
       "      <td>4.0</td>\n",
       "    </tr>\n",
       "  </tbody>\n",
       "</table>\n",
       "<p>5 rows × 27 columns</p>\n",
       "</div>"
      ],
      "text/plain": [
       "       Fecha  Preço Médio Espanha  Preço Médio Portugal  Dif Esp_PT  \\\n",
       "0 2018-04-01                25.94                 26.18       -0.24   \n",
       "1 2018-04-02                28.39                 28.39        0.00   \n",
       "2 2018-04-03                31.08                 31.08        0.00   \n",
       "3 2018-04-04                31.03                 31.03        0.00   \n",
       "4 2018-04-05                48.13                 48.13        0.00   \n",
       "\n",
       "  Market_Splitting  lEnergia total (MWh)  Temperatura média (º F)  \\\n",
       "0              Sim              5.711499                57.233333   \n",
       "1              Não              5.775289                58.833333   \n",
       "2              Não              5.827235                60.566667   \n",
       "3              Não              5.833591                60.566667   \n",
       "4              Não              5.804138                58.700000   \n",
       "\n",
       "   Velocidade média do vento (mph)    Year  PetrleoBrentltimo  ...  Verão  \\\n",
       "0                         7.785714  2018.0                NaN  ...    0.0   \n",
       "1                        10.957143  2018.0              67.64  ...    0.0   \n",
       "2                        14.642857  2018.0              68.12  ...    0.0   \n",
       "3                        11.428571  2018.0              68.02  ...    0.0   \n",
       "4                         7.171429  2018.0              68.33  ...    0.0   \n",
       "\n",
       "   Outono  Inverno  MPetróleo Brent - Último  MGás Natural (NGM1) - último  \\\n",
       "0     0.0      0.0                     67.64                         46.92   \n",
       "1     0.0      0.0                     67.64                         46.92   \n",
       "2     0.0      0.0                     68.12                         46.92   \n",
       "3     0.0      0.0                     68.02                         47.18   \n",
       "4     0.0      0.0                     68.33                         46.97   \n",
       "\n",
       "   Pressão Atmosférica Média  col_datetime  reference_month  week_year  month  \n",
       "0                  29.085714    2018-04-01          2018-04    2018-13    4.0  \n",
       "1                  28.900000    2018-04-02          2018-04    2018-13    4.0  \n",
       "2                  28.857143    2018-04-03          2018-04    2018-13    4.0  \n",
       "3                  28.900000    2018-04-04          2018-04    2018-13    4.0  \n",
       "4                  29.171429    2018-04-05          2018-04    2018-13    4.0  \n",
       "\n",
       "[5 rows x 27 columns]"
      ]
     },
     "execution_count": 69,
     "metadata": {},
     "output_type": "execute_result"
    }
   ],
   "source": [
    "df.head()"
   ]
  },
  {
   "cell_type": "markdown",
   "id": "56d4fab4",
   "metadata": {},
   "source": [
    "- Neste ponto, seguindo a recomendação de Amjady & Hemmati (2006) que reviram alguns problemas presentes em EPF (electricity price forecasting), mais especificamente, os problemas relacionados com as técnicas de séries temporais (AR, ARIMA, GARCH). Os autores argumentam que essas técnicas só têm sucesso em ocasiões nas quais a frequência dos dados é baixa, como padrões semanais, será realizado um agrupamento semanal e agregação das variáveis que serão utilizas na modelação."
   ]
  },
  {
   "cell_type": "code",
   "execution_count": 70,
   "id": "de034df6",
   "metadata": {
    "ExecuteTime": {
     "end_time": "2023-09-10T21:07:31.542847Z",
     "start_time": "2023-09-10T21:07:31.532310Z"
    }
   },
   "outputs": [],
   "source": [
    "# saving the excel\n",
    "#dados_agrup.to_excel('dados_agrup.xlsx')"
   ]
  },
  {
   "cell_type": "code",
   "execution_count": 71,
   "id": "c57344fd",
   "metadata": {
    "ExecuteTime": {
     "end_time": "2023-09-10T21:07:31.603400Z",
     "start_time": "2023-09-10T21:07:31.552285Z"
    }
   },
   "outputs": [
    {
     "data": {
      "text/html": [
       "<div>\n",
       "<style scoped>\n",
       "    .dataframe tbody tr th:only-of-type {\n",
       "        vertical-align: middle;\n",
       "    }\n",
       "\n",
       "    .dataframe tbody tr th {\n",
       "        vertical-align: top;\n",
       "    }\n",
       "\n",
       "    .dataframe thead th {\n",
       "        text-align: right;\n",
       "    }\n",
       "</style>\n",
       "<table border=\"1\" class=\"dataframe\">\n",
       "  <thead>\n",
       "    <tr style=\"text-align: right;\">\n",
       "      <th></th>\n",
       "      <th>week_year</th>\n",
       "      <th>portugal_price</th>\n",
       "      <th>log_energy_volume</th>\n",
       "      <th>average_temperature</th>\n",
       "      <th>average_wind_speed</th>\n",
       "    </tr>\n",
       "  </thead>\n",
       "  <tbody>\n",
       "    <tr>\n",
       "      <th>0</th>\n",
       "      <td>2018-13</td>\n",
       "      <td>34.86</td>\n",
       "      <td>5.79</td>\n",
       "      <td>58.71</td>\n",
       "      <td>10.06</td>\n",
       "    </tr>\n",
       "    <tr>\n",
       "      <th>1</th>\n",
       "      <td>2018-14</td>\n",
       "      <td>45.91</td>\n",
       "      <td>5.81</td>\n",
       "      <td>56.20</td>\n",
       "      <td>8.80</td>\n",
       "    </tr>\n",
       "    <tr>\n",
       "      <th>2</th>\n",
       "      <td>2018-15</td>\n",
       "      <td>44.86</td>\n",
       "      <td>5.78</td>\n",
       "      <td>60.33</td>\n",
       "      <td>7.27</td>\n",
       "    </tr>\n",
       "    <tr>\n",
       "      <th>3</th>\n",
       "      <td>2018-16</td>\n",
       "      <td>46.73</td>\n",
       "      <td>5.76</td>\n",
       "      <td>62.97</td>\n",
       "      <td>7.32</td>\n",
       "    </tr>\n",
       "    <tr>\n",
       "      <th>4</th>\n",
       "      <td>2018-17</td>\n",
       "      <td>41.50</td>\n",
       "      <td>5.77</td>\n",
       "      <td>60.45</td>\n",
       "      <td>9.11</td>\n",
       "    </tr>\n",
       "  </tbody>\n",
       "</table>\n",
       "</div>"
      ],
      "text/plain": [
       "  week_year  portugal_price  log_energy_volume  average_temperature  \\\n",
       "0   2018-13           34.86               5.79                58.71   \n",
       "1   2018-14           45.91               5.81                56.20   \n",
       "2   2018-15           44.86               5.78                60.33   \n",
       "3   2018-16           46.73               5.76                62.97   \n",
       "4   2018-17           41.50               5.77                60.45   \n",
       "\n",
       "   average_wind_speed  \n",
       "0               10.06  \n",
       "1                8.80  \n",
       "2                7.27  \n",
       "3                7.32  \n",
       "4                9.11  "
      ]
     },
     "execution_count": 71,
     "metadata": {},
     "output_type": "execute_result"
    }
   ],
   "source": [
    "grouped_df = df.groupby('week_year', as_index = False).\\\n",
    "                            agg({'Preço Médio Portugal':'mean',\n",
    "                                 'lEnergia total (MWh)':'mean',\n",
    "                                 'Temperatura média (º F)':'mean',\n",
    "                                 'Velocidade média do vento (mph)':'mean'})\n",
    "\n",
    "# Change the name of columns\n",
    "grouped_df.columns = ['week_year','portugal_price', 'log_energy_volume','average_temperature',\n",
    "                      'average_wind_speed']\n",
    "\n",
    "# Select all float columns and round those columns\n",
    "float_cols = [col for col in grouped_df.columns if grouped_df[col].dtype == 'float64']\n",
    "\n",
    "for col in float_cols:\n",
    "    grouped_df[col] = grouped_df[col].round(2)\n",
    "    \n",
    "## convertendo a coluna para o tipo datetime\n",
    "#grouped_df['col_datetime'] = pd.to_datetime(grouped_df['week_year'], format='%Y-%U')\n",
    "\n",
    "grouped_df.head()"
   ]
  },
  {
   "cell_type": "code",
   "execution_count": 72,
   "id": "e9f05fcd",
   "metadata": {
    "ExecuteTime": {
     "end_time": "2023-09-10T21:07:31.633227Z",
     "start_time": "2023-09-10T21:07:31.608226Z"
    }
   },
   "outputs": [],
   "source": [
    "grouped_df['date'] = pd.to_datetime(grouped_df['week_year'] + '-1', format='%Y-%U-%w')"
   ]
  },
  {
   "cell_type": "code",
   "execution_count": 73,
   "id": "31c8a31c",
   "metadata": {
    "ExecuteTime": {
     "end_time": "2023-09-10T21:07:31.695212Z",
     "start_time": "2023-09-10T21:07:31.638227Z"
    }
   },
   "outputs": [
    {
     "data": {
      "text/html": [
       "<div>\n",
       "<style scoped>\n",
       "    .dataframe tbody tr th:only-of-type {\n",
       "        vertical-align: middle;\n",
       "    }\n",
       "\n",
       "    .dataframe tbody tr th {\n",
       "        vertical-align: top;\n",
       "    }\n",
       "\n",
       "    .dataframe thead th {\n",
       "        text-align: right;\n",
       "    }\n",
       "</style>\n",
       "<table border=\"1\" class=\"dataframe\">\n",
       "  <thead>\n",
       "    <tr style=\"text-align: right;\">\n",
       "      <th></th>\n",
       "      <th>week_year</th>\n",
       "      <th>portugal_price</th>\n",
       "      <th>log_energy_volume</th>\n",
       "      <th>average_temperature</th>\n",
       "      <th>average_wind_speed</th>\n",
       "      <th>date</th>\n",
       "    </tr>\n",
       "  </thead>\n",
       "  <tbody>\n",
       "    <tr>\n",
       "      <th>0</th>\n",
       "      <td>2018-13</td>\n",
       "      <td>34.86</td>\n",
       "      <td>5.79</td>\n",
       "      <td>58.71</td>\n",
       "      <td>10.06</td>\n",
       "      <td>2018-04-02</td>\n",
       "    </tr>\n",
       "    <tr>\n",
       "      <th>1</th>\n",
       "      <td>2018-14</td>\n",
       "      <td>45.91</td>\n",
       "      <td>5.81</td>\n",
       "      <td>56.20</td>\n",
       "      <td>8.80</td>\n",
       "      <td>2018-04-09</td>\n",
       "    </tr>\n",
       "    <tr>\n",
       "      <th>2</th>\n",
       "      <td>2018-15</td>\n",
       "      <td>44.86</td>\n",
       "      <td>5.78</td>\n",
       "      <td>60.33</td>\n",
       "      <td>7.27</td>\n",
       "      <td>2018-04-16</td>\n",
       "    </tr>\n",
       "    <tr>\n",
       "      <th>3</th>\n",
       "      <td>2018-16</td>\n",
       "      <td>46.73</td>\n",
       "      <td>5.76</td>\n",
       "      <td>62.97</td>\n",
       "      <td>7.32</td>\n",
       "      <td>2018-04-23</td>\n",
       "    </tr>\n",
       "    <tr>\n",
       "      <th>4</th>\n",
       "      <td>2018-17</td>\n",
       "      <td>41.50</td>\n",
       "      <td>5.77</td>\n",
       "      <td>60.45</td>\n",
       "      <td>9.11</td>\n",
       "      <td>2018-04-30</td>\n",
       "    </tr>\n",
       "  </tbody>\n",
       "</table>\n",
       "</div>"
      ],
      "text/plain": [
       "  week_year  portugal_price  log_energy_volume  average_temperature  \\\n",
       "0   2018-13           34.86               5.79                58.71   \n",
       "1   2018-14           45.91               5.81                56.20   \n",
       "2   2018-15           44.86               5.78                60.33   \n",
       "3   2018-16           46.73               5.76                62.97   \n",
       "4   2018-17           41.50               5.77                60.45   \n",
       "\n",
       "   average_wind_speed       date  \n",
       "0               10.06 2018-04-02  \n",
       "1                8.80 2018-04-09  \n",
       "2                7.27 2018-04-16  \n",
       "3                7.32 2018-04-23  \n",
       "4                9.11 2018-04-30  "
      ]
     },
     "execution_count": 73,
     "metadata": {},
     "output_type": "execute_result"
    }
   ],
   "source": [
    "grouped_df.head()"
   ]
  },
  {
   "cell_type": "markdown",
   "id": "34788e53",
   "metadata": {},
   "source": [
    "- Aplicou-se uma transformação logarítmica na variável dependente. A transformação logarítmica é comumente aplicada em séries temporais quando os dados exibem uma variação exponencial ao longo do tempo. Essa transformação é importante porque pode ajudar a estabilizar a variância dos dados e tornar a relação entre a média e a variância mais linear. Isso pode facilitar a modelagem estatística e previsão de séries temporais."
   ]
  },
  {
   "cell_type": "code",
   "execution_count": 74,
   "id": "01a63628",
   "metadata": {
    "ExecuteTime": {
     "end_time": "2023-09-10T21:07:31.725322Z",
     "start_time": "2023-09-10T21:07:31.698213Z"
    }
   },
   "outputs": [
    {
     "data": {
      "text/html": [
       "<div>\n",
       "<style scoped>\n",
       "    .dataframe tbody tr th:only-of-type {\n",
       "        vertical-align: middle;\n",
       "    }\n",
       "\n",
       "    .dataframe tbody tr th {\n",
       "        vertical-align: top;\n",
       "    }\n",
       "\n",
       "    .dataframe thead th {\n",
       "        text-align: right;\n",
       "    }\n",
       "</style>\n",
       "<table border=\"1\" class=\"dataframe\">\n",
       "  <thead>\n",
       "    <tr style=\"text-align: right;\">\n",
       "      <th></th>\n",
       "      <th>week_year</th>\n",
       "      <th>portugal_price</th>\n",
       "      <th>log_energy_volume</th>\n",
       "      <th>average_temperature</th>\n",
       "      <th>average_wind_speed</th>\n",
       "      <th>date</th>\n",
       "      <th>log_portugal_price</th>\n",
       "    </tr>\n",
       "  </thead>\n",
       "  <tbody>\n",
       "    <tr>\n",
       "      <th>0</th>\n",
       "      <td>2018-13</td>\n",
       "      <td>34.86</td>\n",
       "      <td>5.79</td>\n",
       "      <td>58.71</td>\n",
       "      <td>10.06</td>\n",
       "      <td>2018-04-02</td>\n",
       "      <td>3.55</td>\n",
       "    </tr>\n",
       "    <tr>\n",
       "      <th>1</th>\n",
       "      <td>2018-14</td>\n",
       "      <td>45.91</td>\n",
       "      <td>5.81</td>\n",
       "      <td>56.20</td>\n",
       "      <td>8.80</td>\n",
       "      <td>2018-04-09</td>\n",
       "      <td>3.83</td>\n",
       "    </tr>\n",
       "    <tr>\n",
       "      <th>2</th>\n",
       "      <td>2018-15</td>\n",
       "      <td>44.86</td>\n",
       "      <td>5.78</td>\n",
       "      <td>60.33</td>\n",
       "      <td>7.27</td>\n",
       "      <td>2018-04-16</td>\n",
       "      <td>3.80</td>\n",
       "    </tr>\n",
       "    <tr>\n",
       "      <th>3</th>\n",
       "      <td>2018-16</td>\n",
       "      <td>46.73</td>\n",
       "      <td>5.76</td>\n",
       "      <td>62.97</td>\n",
       "      <td>7.32</td>\n",
       "      <td>2018-04-23</td>\n",
       "      <td>3.84</td>\n",
       "    </tr>\n",
       "    <tr>\n",
       "      <th>4</th>\n",
       "      <td>2018-17</td>\n",
       "      <td>41.50</td>\n",
       "      <td>5.77</td>\n",
       "      <td>60.45</td>\n",
       "      <td>9.11</td>\n",
       "      <td>2018-04-30</td>\n",
       "      <td>3.73</td>\n",
       "    </tr>\n",
       "  </tbody>\n",
       "</table>\n",
       "</div>"
      ],
      "text/plain": [
       "  week_year  portugal_price  log_energy_volume  average_temperature  \\\n",
       "0   2018-13           34.86               5.79                58.71   \n",
       "1   2018-14           45.91               5.81                56.20   \n",
       "2   2018-15           44.86               5.78                60.33   \n",
       "3   2018-16           46.73               5.76                62.97   \n",
       "4   2018-17           41.50               5.77                60.45   \n",
       "\n",
       "   average_wind_speed       date  log_portugal_price  \n",
       "0               10.06 2018-04-02                3.55  \n",
       "1                8.80 2018-04-09                3.83  \n",
       "2                7.27 2018-04-16                3.80  \n",
       "3                7.32 2018-04-23                3.84  \n",
       "4                9.11 2018-04-30                3.73  "
      ]
     },
     "execution_count": 74,
     "metadata": {},
     "output_type": "execute_result"
    }
   ],
   "source": [
    "## Passar a variavel alvo para logartimo e explicar a razão\n",
    "\n",
    "grouped_df['log_portugal_price'] = np.round(np.log(grouped_df.portugal_price),2)\n",
    "grouped_df.head()"
   ]
  },
  {
   "cell_type": "code",
   "execution_count": 75,
   "id": "2df9a27f",
   "metadata": {
    "ExecuteTime": {
     "end_time": "2023-09-10T21:07:31.740581Z",
     "start_time": "2023-09-10T21:07:31.728323Z"
    }
   },
   "outputs": [],
   "source": [
    "# definir a data de corte\n",
    "corte = '2021-02-08'\n",
    "\n",
    "# separar os dados de treino e teste\n",
    "grouped_df_train = grouped_df[grouped_df.date < corte]\n",
    "grouped_df_test = grouped_df[grouped_df.date >= corte]"
   ]
  },
  {
   "cell_type": "code",
   "execution_count": 76,
   "id": "52bace71",
   "metadata": {
    "ExecuteTime": {
     "end_time": "2023-09-10T21:07:31.756597Z",
     "start_time": "2023-09-10T21:07:31.743586Z"
    }
   },
   "outputs": [],
   "source": [
    "df_teste = grouped_df"
   ]
  },
  {
   "cell_type": "code",
   "execution_count": 77,
   "id": "1f678973",
   "metadata": {
    "ExecuteTime": {
     "end_time": "2023-09-10T21:07:31.772299Z",
     "start_time": "2023-09-10T21:07:31.760587Z"
    }
   },
   "outputs": [],
   "source": [
    "df_teste = df_teste.set_index('date')\n",
    "ts_price = pd.Series(df_teste['portugal_price'])"
   ]
  },
  {
   "cell_type": "code",
   "execution_count": 78,
   "id": "c8ba19f7",
   "metadata": {
    "ExecuteTime": {
     "end_time": "2023-09-10T21:07:31.787300Z",
     "start_time": "2023-09-10T21:07:31.775304Z"
    }
   },
   "outputs": [
    {
     "data": {
      "text/plain": [
       "date\n",
       "2018-04-02    34.86\n",
       "2018-04-09    45.91\n",
       "2018-04-16    44.86\n",
       "2018-04-23    46.73\n",
       "2018-04-30    41.50\n",
       "              ...  \n",
       "2021-03-01    45.62\n",
       "2021-03-08    46.22\n",
       "2021-03-15    29.77\n",
       "2021-03-22    54.61\n",
       "2021-03-29    47.94\n",
       "Name: portugal_price, Length: 160, dtype: float64"
      ]
     },
     "execution_count": 78,
     "metadata": {},
     "output_type": "execute_result"
    }
   ],
   "source": [
    "ts_price"
   ]
  },
  {
   "cell_type": "code",
   "execution_count": 79,
   "id": "56b47e86",
   "metadata": {
    "ExecuteTime": {
     "end_time": "2023-09-10T21:07:31.802300Z",
     "start_time": "2023-09-10T21:07:31.791297Z"
    }
   },
   "outputs": [],
   "source": [
    "# Calcula o índice correspondente ao primeiro 95% dos dados\n",
    "train_size = int(0.95 * len(ts_price))\n",
    "\n",
    "# Seleciona somente as primeiras linhas correspondentes ao treinamento\n",
    "ts_train_price = ts_price.iloc[:train_size]\n",
    "\n",
    "log_ts_train_price = np.round(np.log(ts_train_price),2)"
   ]
  },
  {
   "cell_type": "code",
   "execution_count": 80,
   "id": "cf088f5c",
   "metadata": {
    "ExecuteTime": {
     "end_time": "2023-09-10T21:07:31.833361Z",
     "start_time": "2023-09-10T21:07:31.805395Z"
    }
   },
   "outputs": [
    {
     "data": {
      "text/plain": [
       "date\n",
       "2021-02-08    24.33\n",
       "2021-02-15    21.88\n",
       "2021-02-22    33.38\n",
       "2021-03-01    45.62\n",
       "2021-03-08    46.22\n",
       "2021-03-15    29.77\n",
       "2021-03-22    54.61\n",
       "2021-03-29    47.94\n",
       "Name: portugal_price, dtype: float64"
      ]
     },
     "execution_count": 80,
     "metadata": {},
     "output_type": "execute_result"
    }
   ],
   "source": [
    "ts_test_price = ts_price.iloc[train_size:]\n",
    "ts_test_price"
   ]
  },
  {
   "cell_type": "markdown",
   "id": "04d64587",
   "metadata": {},
   "source": [
    "# Exploratory Data Analysis"
   ]
  },
  {
   "cell_type": "code",
   "execution_count": 19,
   "id": "32396a45",
   "metadata": {
    "ExecuteTime": {
     "end_time": "2023-09-10T20:40:03.328769Z",
     "start_time": "2023-09-10T20:40:01.837458Z"
    }
   },
   "outputs": [
    {
     "data": {
      "image/png": "[encoded data removed]",
      "text/plain": [
       "<Figure size 1008x432 with 1 Axes>"
      ]
     },
     "metadata": {
      "needs_background": "light"
     },
     "output_type": "display_data"
    }
   ],
   "source": [
    "import seaborn as sns\n",
    "plt.figure(figsize=(14,6))\n",
    "sns.lineplot(grouped_df['date'], grouped_df['portugal_price']);"
   ]
  },
  {
   "cell_type": "code",
   "execution_count": 20,
   "id": "e3cabd2e",
   "metadata": {
    "ExecuteTime": {
     "end_time": "2023-09-10T20:40:04.433990Z",
     "start_time": "2023-09-10T20:40:03.335769Z"
    }
   },
   "outputs": [
    {
     "data": {
      "image/png": "[encoded data removed]",
      "text/plain": [
       "<Figure size 1008x432 with 1 Axes>"
      ]
     },
     "metadata": {
      "needs_background": "light"
     },
     "output_type": "display_data"
    }
   ],
   "source": [
    "import seaborn as sns\n",
    "plt.figure(figsize=(14,6))\n",
    "sns.lineplot(grouped_df['date'], grouped_df['portugal_price'])\n",
    "plt.title('Average Weekly Energy Price in Portugal EUR/MWh ', size=22)\n",
    "plt.xlabel('Date', fontsize=17)\n",
    "plt.ylabel('Euros ', fontsize=17)\n",
    "#plt.xticks(labels[::3], rotation='vertical')\n",
    "#plt.locator_params(axis='x', nbins=len(x)/2)\n",
    "plt.yticks(fontsize=14);"
   ]
  },
  {
   "cell_type": "code",
   "execution_count": 21,
   "id": "a1130fa1",
   "metadata": {
    "ExecuteTime": {
     "end_time": "2023-09-10T20:40:05.552304Z",
     "start_time": "2023-09-10T20:40:04.438945Z"
    }
   },
   "outputs": [
    {
     "data": {
      "image/png": "[encoded data removed]",
      "text/plain": [
       "<Figure size 1008x432 with 1 Axes>"
      ]
     },
     "metadata": {
      "needs_background": "light"
     },
     "output_type": "display_data"
    }
   ],
   "source": [
    "ts_price.plot(figsize=(14,6))\n",
    "plt.title('Average Weekly Energy Price in Portugal EUR/MWh ', size=22)\n",
    "plt.xlabel('Date', fontsize=17)\n",
    "plt.ylabel('Euros ', fontsize=17)\n",
    "plt.yticks(fontsize=14);"
   ]
  },
  {
   "cell_type": "code",
   "execution_count": 22,
   "id": "0e67a72e",
   "metadata": {
    "ExecuteTime": {
     "end_time": "2023-09-10T20:40:05.567251Z",
     "start_time": "2023-09-10T20:40:05.555249Z"
    }
   },
   "outputs": [],
   "source": [
    "decomposition_ts = sm.tsa.seasonal_decompose(ts_price, period = 52)\n"
   ]
  },
  {
   "cell_type": "code",
   "execution_count": 23,
   "id": "98e8fd55",
   "metadata": {
    "ExecuteTime": {
     "end_time": "2023-09-10T20:40:08.393648Z",
     "start_time": "2023-09-10T20:40:05.577251Z"
    }
   },
   "outputs": [
    {
     "data": {
      "image/png": "[encoded data removed]",
      "text/plain": [
       "<Figure size 864x576 with 4 Axes>"
      ]
     },
     "metadata": {
      "needs_background": "light"
     },
     "output_type": "display_data"
    }
   ],
   "source": [
    "fig = plt.figure(figsize=(12, 8))\n",
    "fig.suptitle('Decomposition of the Average Weekly Energy Price in Portugal', fontsize=20)\n",
    "\n",
    "ax1 = fig.add_subplot(411)\n",
    "ax2 = fig.add_subplot(412)\n",
    "ax3 = fig.add_subplot(413)\n",
    "ax4 = fig.add_subplot(414)\n",
    "\n",
    "sns.lineplot(x=ts_price.index, y=ts_price, ax=ax1)\n",
    "ax1.set_title('Original Series')\n",
    "ax1.set_ylabel('Price')\n",
    "\n",
    "sns.lineplot(x=decomposition_ts.trend.index, y=decomposition_ts.trend, ax=ax2)\n",
    "ax2.set_title('Trend')\n",
    "ax2.set_ylabel('Price')\n",
    "\n",
    "sns.lineplot(x=decomposition_ts.seasonal.index, y=decomposition_ts.seasonal, ax=ax3)\n",
    "ax3.set_title('Seasonal')\n",
    "ax3.set_ylabel('Price')\n",
    "\n",
    "sns.lineplot(x=decomposition_ts.resid.index, y=decomposition_ts.resid, ax=ax4)\n",
    "ax4.set_title('Resid')\n",
    "ax4.set_ylabel('Price')\n",
    "\n",
    "plt.xlabel('Data')\n",
    "plt.tight_layout()\n",
    "plt.show()\n"
   ]
  },
  {
   "cell_type": "markdown",
   "id": "b1057c1c",
   "metadata": {},
   "source": [
    "# Gráficos de Autocorrelaçao e Estacionaridade"
   ]
  },
  {
   "cell_type": "code",
   "execution_count": 24,
   "id": "c1256c55",
   "metadata": {
    "ExecuteTime": {
     "end_time": "2023-09-10T20:40:08.775472Z",
     "start_time": "2023-09-10T20:40:08.400658Z"
    }
   },
   "outputs": [
    {
     "data": {
      "image/png": "[encoded data removed]",
      "text/plain": [
       "<Figure size 720x432 with 1 Axes>"
      ]
     },
     "metadata": {
      "needs_background": "light"
     },
     "output_type": "display_data"
    }
   ],
   "source": [
    "fig, ax = plt.subplots(figsize=(10, 6))\n",
    "tsaplots.plot_acf(ts_train_price, lags=20, ax=ax)\n",
    "plt.title('Autocorrelation', fontsize = 17)\n",
    "plt.show()"
   ]
  },
  {
   "cell_type": "code",
   "execution_count": 25,
   "id": "07392038",
   "metadata": {
    "ExecuteTime": {
     "end_time": "2023-09-10T20:40:09.191223Z",
     "start_time": "2023-09-10T20:40:08.778104Z"
    }
   },
   "outputs": [
    {
     "data": {
      "image/png": "[encoded data removed]",
      "text/plain": [
       "<Figure size 720x432 with 1 Axes>"
      ]
     },
     "metadata": {
      "needs_background": "light"
     },
     "output_type": "display_data"
    }
   ],
   "source": [
    "fig, ax = plt.subplots(figsize=(10, 6))\n",
    "tsaplots.plot_pacf(ts_train_price, lags=20, ax=ax)\n",
    "plt.title('Partial Autocorrelation', fontsize = 17)\n",
    "plt.show()"
   ]
  },
  {
   "cell_type": "markdown",
   "id": "aef4be58",
   "metadata": {},
   "source": [
    "- Os gráficos ACF E PACF sugerem que a série seja não estacionária. Para confirmar a estacionaridade da série, será aplicado o teste ADF"
   ]
  },
  {
   "cell_type": "code",
   "execution_count": 26,
   "id": "7025f1c9",
   "metadata": {
    "ExecuteTime": {
     "end_time": "2023-09-10T20:40:10.071853Z",
     "start_time": "2023-09-10T20:40:09.194225Z"
    }
   },
   "outputs": [
    {
     "name": "stdout",
     "output_type": "stream",
     "text": [
      "ADF Estatística: -1.513250\n",
      "Valor-p: 0.526947\n",
      "Valores Críticos:\n",
      "\t1%: -3.476\n",
      "\t5%: -2.881\n",
      "\t10%: -2.577\n",
      "\n",
      "At a significance level of 5%, we fail to reject the null hypothesis in the ADF test,\n",
      "therefore The time series is non-stationary.\n"
     ]
    }
   ],
   "source": [
    "# executar o teste ADF\n",
    "result = adfuller(ts_train_price)\n",
    "\n",
    "# imprimir os resultados\n",
    "print('ADF Estatística: %f' % result[0])\n",
    "print('Valor-p: %f' % result[1])\n",
    "print('Valores Críticos:')\n",
    "for key, value in result[4].items():\n",
    "    print('\\t%s: %.3f' % (key, value))\n",
    "    \n",
    "if result[1] > 0.05:\n",
    "    print('\\nAt a significance level of 5%, we fail to reject the null hypothesis in the ADF test,\\ntherefore The time series is non-stationary.')\n",
    "\n",
    "else:\n",
    "    print('\\nAt a significance level of 5%, we reject the null hypothesis in the ADF test, therefore The time series is stationary.')"
   ]
  },
  {
   "cell_type": "markdown",
   "id": "e1f35fda",
   "metadata": {},
   "source": [
    "- Com o objetivo de tornar a série estacionária, aplicou-se a diferenciação na série"
   ]
  },
  {
   "cell_type": "code",
   "execution_count": 27,
   "id": "44629b1a",
   "metadata": {
    "ExecuteTime": {
     "end_time": "2023-09-10T20:40:10.102683Z",
     "start_time": "2023-09-10T20:40:10.085756Z"
    }
   },
   "outputs": [],
   "source": [
    "# Aplicando a diferenciação de primeira ordem\n",
    "diff_ts_price = ts_train_price.diff(periods=1)"
   ]
  },
  {
   "cell_type": "code",
   "execution_count": 28,
   "id": "2bbec85a",
   "metadata": {
    "ExecuteTime": {
     "end_time": "2023-09-10T20:40:12.138591Z",
     "start_time": "2023-09-10T20:40:10.111793Z"
    }
   },
   "outputs": [
    {
     "data": {
      "image/png": "[encoded data removed]",
      "text/plain": [
       "<Figure size 720x432 with 1 Axes>"
      ]
     },
     "metadata": {
      "needs_background": "light"
     },
     "output_type": "display_data"
    }
   ],
   "source": [
    "fig, ax = plt.subplots(figsize=(10, 6))\n",
    "tsaplots.plot_acf(diff_ts_price.dropna(), lags=20, ax=ax)\n",
    "plt.title('Autocorrelation', fontsize = 17)\n",
    "plt.show()"
   ]
  },
  {
   "cell_type": "code",
   "execution_count": 29,
   "id": "ea62ded7",
   "metadata": {
    "ExecuteTime": {
     "end_time": "2023-09-10T20:40:12.523887Z",
     "start_time": "2023-09-10T20:40:12.142516Z"
    }
   },
   "outputs": [
    {
     "data": {
      "image/png": "[encoded data removed]",
      "text/plain": [
       "<Figure size 720x432 with 1 Axes>"
      ]
     },
     "metadata": {
      "needs_background": "light"
     },
     "output_type": "display_data"
    }
   ],
   "source": [
    "fig, ax = plt.subplots(figsize=(10, 6))\n",
    "tsaplots.plot_pacf(diff_ts_price.dropna(), lags=20, ax=ax)\n",
    "plt.title('Partial Autocorrelation', fontsize = 17)\n",
    "plt.show()"
   ]
  },
  {
   "cell_type": "code",
   "execution_count": 30,
   "id": "dafdaf67",
   "metadata": {
    "ExecuteTime": {
     "end_time": "2023-09-10T20:40:12.554932Z",
     "start_time": "2023-09-10T20:40:12.526824Z"
    }
   },
   "outputs": [
    {
     "name": "stdout",
     "output_type": "stream",
     "text": [
      "ADF Estatística: -7.922996\n",
      "Valor-p: 0.000000\n",
      "Valores Críticos:\n",
      "\t1%: -3.476\n",
      "\t5%: -2.881\n",
      "\t10%: -2.577\n",
      "\n",
      "At a significance level of 5%, we reject the null hypothesis in the ADF test, therefore The time series is stationary.\n"
     ]
    }
   ],
   "source": [
    "# executar o teste ADF\n",
    "result = adfuller(diff_ts_price.dropna())\n",
    "\n",
    "# imprimir os resultados\n",
    "print('ADF Estatística: %f' % result[0])\n",
    "print('Valor-p: %f' % result[1])\n",
    "print('Valores Críticos:')\n",
    "for key, value in result[4].items():\n",
    "    print('\\t%s: %.3f' % (key, value))\n",
    "    \n",
    "if result[1] > 0.05:\n",
    "    print('\\nAt a significance level of 5%, we fail to reject the null hypothesis in the ADF test,\\ntherefore The time series is non-stationary.')\n",
    "\n",
    "else:\n",
    "    print('\\nAt a significance level of 5%, we reject the null hypothesis in the ADF test, therefore The time series is stationary.')"
   ]
  },
  {
   "cell_type": "markdown",
   "id": "20fa0c1d",
   "metadata": {},
   "source": [
    "# Modelling"
   ]
  },
  {
   "cell_type": "markdown",
   "id": "760b51fd",
   "metadata": {},
   "source": [
    "## ARIMA"
   ]
  },
  {
   "cell_type": "code",
   "execution_count": 33,
   "id": "22178423",
   "metadata": {
    "ExecuteTime": {
     "end_time": "2023-09-10T20:40:16.419260Z",
     "start_time": "2023-09-10T20:40:16.346258Z"
    }
   },
   "outputs": [],
   "source": [
    "# Cria a grade de parâmetros para p, d e q\n",
    "p = q = range(0, 3)\n",
    "d = [1]\n",
    "pdq = list(itertools.product(p, d, q))\n",
    "\n",
    "# Filtra os parâmetros que têm ordem menor ou igual a 11\n",
    "pdq = [params for params in pdq if sum(params) <= 11]\n",
    "\n",
    "\n",
    "for params in pdq:\n",
    "    try:\n",
    "        # Ajusta o modelo ARIMA\n",
    "        model = sm.tsa.ARIMA(ts_train_price, order=params).fit(disp=-1)\n",
    "        print(model)\n",
    "\n",
    "        # Realiza o teste de Box-Pierce\n",
    "        pval = sm.stats.acorr_ljungbox(model.resid, lags=[np.log(len(model.resid))])[1]\n",
    "\n",
    "        # Calcula o SSE\n",
    "        sse = sum(model.resid**2)\n",
    "\n",
    "        # Imprime os resultados\n",
    "        print(params, 'AIC=', model.aic, ' SSE=', sse, ' p-VALUE=', pval)\n",
    "    except:\n",
    "        continue"
   ]
  },
  {
   "cell_type": "code",
   "execution_count": 34,
   "id": "f90cf7b4",
   "metadata": {
    "ExecuteTime": {
     "end_time": "2023-09-10T20:40:16.510494Z",
     "start_time": "2023-09-10T20:40:16.424252Z"
    }
   },
   "outputs": [],
   "source": [
    "# Cria a grade de parâmetros para p, d e q\n",
    "p = d = q = range(0, 4)\n",
    "d = [1]  # Define d como 1\n",
    "pdq = list(itertools.product(p, d, q))\n",
    "\n",
    "# Filtra os parâmetros que têm ordem menor ou igual a 11\n",
    "pdq = [params for params in pdq if sum(params) <= 11]\n",
    "\n",
    "\n",
    "for params in pdq:\n",
    "    try:\n",
    "        # Ajusta o modelo ARIMA\n",
    "        model = sm.tsa.ARIMA(ts_train_price, order=params).fit(disp=-1)\n",
    "\n",
    "        # Realiza o teste de Box-Pierce\n",
    "        pval = sm.stats.acorr_ljungbox(model.resid, lags=[np.log(len(model.resid))])[1]\n",
    "\n",
    "        # Calcula o SSE\n",
    "        sse = sum(model.resid**2)\n",
    "\n",
    "        # Imprime os resultados\n",
    "        print(params, 'AIC=', model.aic, ' SSE=', sse, ' p-VALUE=', pval)\n",
    "    except:\n",
    "        continue"
   ]
  },
  {
   "cell_type": "code",
   "execution_count": 60,
   "id": "7d738a48",
   "metadata": {
    "ExecuteTime": {
     "end_time": "2023-09-10T21:04:40.341845Z",
     "start_time": "2023-09-10T21:04:32.042897Z"
    }
   },
   "outputs": [],
   "source": [
    "# Define as ordens para p, d e q\n",
    "orders = [(p, d, q) for p in range(4) for d in range(2) for q in range(4)]\n",
    "\n",
    "# Cria uma lista vazia para armazenar os resultados\n",
    "results = []\n",
    "\n",
    "# Loop sobre as ordens e ajusta um modelo ARIMA para cada combinação\n",
    "for order in orders:\n",
    "    try:\n",
    "        model = sm.tsa.ARIMA(ts_train_price, order=order)\n",
    "        fit = model.fit()\n",
    "        results.append((order, fit.aic))\n",
    "    except:\n",
    "        continue\n",
    "\n",
    "# Ordena a lista de resultados pelo AIC em ordem crescente\n",
    "results.sort(key=lambda x: x[1])"
   ]
  },
  {
   "cell_type": "code",
   "execution_count": 61,
   "id": "2e03f7b8",
   "metadata": {
    "ExecuteTime": {
     "end_time": "2023-09-10T21:04:40.435918Z",
     "start_time": "2023-09-10T21:04:40.347483Z"
    }
   },
   "outputs": [
    {
     "data": {
      "text/html": [
       "<div>\n",
       "<style scoped>\n",
       "    .dataframe tbody tr th:only-of-type {\n",
       "        vertical-align: middle;\n",
       "    }\n",
       "\n",
       "    .dataframe tbody tr th {\n",
       "        vertical-align: top;\n",
       "    }\n",
       "\n",
       "    .dataframe thead th {\n",
       "        text-align: right;\n",
       "    }\n",
       "</style>\n",
       "<table border=\"1\" class=\"dataframe\">\n",
       "  <thead>\n",
       "    <tr style=\"text-align: right;\">\n",
       "      <th></th>\n",
       "      <th>ARIMA</th>\n",
       "      <th>AIC</th>\n",
       "    </tr>\n",
       "  </thead>\n",
       "  <tbody>\n",
       "    <tr>\n",
       "      <th>0</th>\n",
       "      <td>(2, 1, 2)</td>\n",
       "      <td>946.576314</td>\n",
       "    </tr>\n",
       "    <tr>\n",
       "      <th>1</th>\n",
       "      <td>(3, 1, 3)</td>\n",
       "      <td>948.258597</td>\n",
       "    </tr>\n",
       "    <tr>\n",
       "      <th>2</th>\n",
       "      <td>(2, 1, 3)</td>\n",
       "      <td>948.531793</td>\n",
       "    </tr>\n",
       "    <tr>\n",
       "      <th>3</th>\n",
       "      <td>(3, 1, 2)</td>\n",
       "      <td>948.534112</td>\n",
       "    </tr>\n",
       "    <tr>\n",
       "      <th>4</th>\n",
       "      <td>(3, 1, 1)</td>\n",
       "      <td>954.127472</td>\n",
       "    </tr>\n",
       "    <tr>\n",
       "      <th>5</th>\n",
       "      <td>(2, 1, 1)</td>\n",
       "      <td>954.570302</td>\n",
       "    </tr>\n",
       "    <tr>\n",
       "      <th>6</th>\n",
       "      <td>(0, 1, 3)</td>\n",
       "      <td>955.015559</td>\n",
       "    </tr>\n",
       "    <tr>\n",
       "      <th>7</th>\n",
       "      <td>(1, 1, 2)</td>\n",
       "      <td>955.491232</td>\n",
       "    </tr>\n",
       "    <tr>\n",
       "      <th>8</th>\n",
       "      <td>(1, 1, 1)</td>\n",
       "      <td>955.870839</td>\n",
       "    </tr>\n",
       "    <tr>\n",
       "      <th>9</th>\n",
       "      <td>(1, 1, 3)</td>\n",
       "      <td>956.245167</td>\n",
       "    </tr>\n",
       "    <tr>\n",
       "      <th>10</th>\n",
       "      <td>(3, 0, 3)</td>\n",
       "      <td>956.290486</td>\n",
       "    </tr>\n",
       "    <tr>\n",
       "      <th>11</th>\n",
       "      <td>(3, 1, 0)</td>\n",
       "      <td>958.120985</td>\n",
       "    </tr>\n",
       "    <tr>\n",
       "      <th>12</th>\n",
       "      <td>(0, 1, 2)</td>\n",
       "      <td>958.403840</td>\n",
       "    </tr>\n",
       "    <tr>\n",
       "      <th>13</th>\n",
       "      <td>(0, 1, 0)</td>\n",
       "      <td>958.617200</td>\n",
       "    </tr>\n",
       "    <tr>\n",
       "      <th>14</th>\n",
       "      <td>(0, 1, 1)</td>\n",
       "      <td>960.562735</td>\n",
       "    </tr>\n",
       "    <tr>\n",
       "      <th>15</th>\n",
       "      <td>(1, 1, 0)</td>\n",
       "      <td>960.575085</td>\n",
       "    </tr>\n",
       "    <tr>\n",
       "      <th>16</th>\n",
       "      <td>(2, 1, 0)</td>\n",
       "      <td>960.826274</td>\n",
       "    </tr>\n",
       "    <tr>\n",
       "      <th>17</th>\n",
       "      <td>(3, 0, 1)</td>\n",
       "      <td>963.631440</td>\n",
       "    </tr>\n",
       "    <tr>\n",
       "      <th>18</th>\n",
       "      <td>(1, 0, 0)</td>\n",
       "      <td>963.671720</td>\n",
       "    </tr>\n",
       "    <tr>\n",
       "      <th>19</th>\n",
       "      <td>(1, 0, 3)</td>\n",
       "      <td>963.968451</td>\n",
       "    </tr>\n",
       "    <tr>\n",
       "      <th>20</th>\n",
       "      <td>(2, 0, 2)</td>\n",
       "      <td>964.551223</td>\n",
       "    </tr>\n",
       "    <tr>\n",
       "      <th>21</th>\n",
       "      <td>(2, 0, 1)</td>\n",
       "      <td>964.986074</td>\n",
       "    </tr>\n",
       "    <tr>\n",
       "      <th>22</th>\n",
       "      <td>(2, 0, 3)</td>\n",
       "      <td>965.328395</td>\n",
       "    </tr>\n",
       "    <tr>\n",
       "      <th>23</th>\n",
       "      <td>(1, 0, 1)</td>\n",
       "      <td>965.568065</td>\n",
       "    </tr>\n",
       "    <tr>\n",
       "      <th>24</th>\n",
       "      <td>(2, 0, 0)</td>\n",
       "      <td>965.583507</td>\n",
       "    </tr>\n",
       "    <tr>\n",
       "      <th>25</th>\n",
       "      <td>(1, 0, 2)</td>\n",
       "      <td>966.258785</td>\n",
       "    </tr>\n",
       "    <tr>\n",
       "      <th>26</th>\n",
       "      <td>(3, 0, 0)</td>\n",
       "      <td>966.823445</td>\n",
       "    </tr>\n",
       "    <tr>\n",
       "      <th>27</th>\n",
       "      <td>(3, 0, 2)</td>\n",
       "      <td>968.166917</td>\n",
       "    </tr>\n",
       "    <tr>\n",
       "      <th>28</th>\n",
       "      <td>(0, 0, 3)</td>\n",
       "      <td>1012.670785</td>\n",
       "    </tr>\n",
       "    <tr>\n",
       "      <th>29</th>\n",
       "      <td>(0, 0, 2)</td>\n",
       "      <td>1041.640567</td>\n",
       "    </tr>\n",
       "    <tr>\n",
       "      <th>30</th>\n",
       "      <td>(0, 0, 1)</td>\n",
       "      <td>1097.295362</td>\n",
       "    </tr>\n",
       "    <tr>\n",
       "      <th>31</th>\n",
       "      <td>(0, 0, 0)</td>\n",
       "      <td>1227.893799</td>\n",
       "    </tr>\n",
       "  </tbody>\n",
       "</table>\n",
       "</div>"
      ],
      "text/plain": [
       "        ARIMA          AIC\n",
       "0   (2, 1, 2)   946.576314\n",
       "1   (3, 1, 3)   948.258597\n",
       "2   (2, 1, 3)   948.531793\n",
       "3   (3, 1, 2)   948.534112\n",
       "4   (3, 1, 1)   954.127472\n",
       "5   (2, 1, 1)   954.570302\n",
       "6   (0, 1, 3)   955.015559\n",
       "7   (1, 1, 2)   955.491232\n",
       "8   (1, 1, 1)   955.870839\n",
       "9   (1, 1, 3)   956.245167\n",
       "10  (3, 0, 3)   956.290486\n",
       "11  (3, 1, 0)   958.120985\n",
       "12  (0, 1, 2)   958.403840\n",
       "13  (0, 1, 0)   958.617200\n",
       "14  (0, 1, 1)   960.562735\n",
       "15  (1, 1, 0)   960.575085\n",
       "16  (2, 1, 0)   960.826274\n",
       "17  (3, 0, 1)   963.631440\n",
       "18  (1, 0, 0)   963.671720\n",
       "19  (1, 0, 3)   963.968451\n",
       "20  (2, 0, 2)   964.551223\n",
       "21  (2, 0, 1)   964.986074\n",
       "22  (2, 0, 3)   965.328395\n",
       "23  (1, 0, 1)   965.568065\n",
       "24  (2, 0, 0)   965.583507\n",
       "25  (1, 0, 2)   966.258785\n",
       "26  (3, 0, 0)   966.823445\n",
       "27  (3, 0, 2)   968.166917\n",
       "28  (0, 0, 3)  1012.670785\n",
       "29  (0, 0, 2)  1041.640567\n",
       "30  (0, 0, 1)  1097.295362\n",
       "31  (0, 0, 0)  1227.893799"
      ]
     },
     "execution_count": 61,
     "metadata": {},
     "output_type": "execute_result"
    }
   ],
   "source": [
    "# Crie um DataFrame com as colunas \"ARIMA\" e \"AIC\"\n",
    "df_arima = pd.DataFrame(results, columns=[\"ARIMA\", \"AIC\"])\n",
    "\n",
    "df_arima"
   ]
  },
  {
   "cell_type": "markdown",
   "id": "ea3b3f4e",
   "metadata": {},
   "source": [
    "- Selecionaremos o modelo ARIMA (2,1,2) pois foi o modelo com o menor AIC"
   ]
  },
  {
   "cell_type": "code",
   "execution_count": 36,
   "id": "343681d9",
   "metadata": {
    "ExecuteTime": {
     "end_time": "2023-09-10T20:40:22.814963Z",
     "start_time": "2023-09-10T20:40:22.803961Z"
    }
   },
   "outputs": [],
   "source": [
    "arima_model = sm.tsa.ARIMA(log_ts_train_price, order=(2,1,2))"
   ]
  },
  {
   "cell_type": "code",
   "execution_count": 37,
   "id": "836e8eda",
   "metadata": {
    "ExecuteTime": {
     "end_time": "2023-09-10T20:40:23.093593Z",
     "start_time": "2023-09-10T20:40:22.817964Z"
    }
   },
   "outputs": [],
   "source": [
    "results_arima_model = arima_model.fit()"
   ]
  },
  {
   "cell_type": "code",
   "execution_count": 38,
   "id": "9436481a",
   "metadata": {
    "ExecuteTime": {
     "end_time": "2023-09-10T20:40:23.124410Z",
     "start_time": "2023-09-10T20:40:23.097415Z"
    }
   },
   "outputs": [
    {
     "name": "stdout",
     "output_type": "stream",
     "text": [
      "                               SARIMAX Results                                \n",
      "==============================================================================\n",
      "Dep. Variable:         portugal_price   No. Observations:                  152\n",
      "Model:                 ARIMA(2, 1, 2)   Log Likelihood                  85.030\n",
      "Date:                Sun, 10 Sep 2023   AIC                           -160.060\n",
      "Time:                        17:40:23   BIC                           -144.973\n",
      "Sample:                             0   HQIC                          -153.931\n",
      "                                - 152                                         \n",
      "Covariance Type:                  opg                                         \n",
      "==============================================================================\n",
      "                 coef    std err          z      P>|z|      [0.025      0.975]\n",
      "------------------------------------------------------------------------------\n",
      "ar.L1          0.0047      1.740      0.003      0.998      -3.407       3.416\n",
      "ar.L2          0.6093      1.311      0.465      0.642      -1.960       3.179\n",
      "ma.L1         -0.1370      1.762     -0.078      0.938      -3.590       3.316\n",
      "ma.L2         -0.6918      1.562     -0.443      0.658      -3.754       2.370\n",
      "sigma2         0.0190      0.002     11.512      0.000       0.016       0.022\n",
      "===================================================================================\n",
      "Ljung-Box (L1) (Q):                   0.24   Jarque-Bera (JB):                16.13\n",
      "Prob(Q):                              0.62   Prob(JB):                         0.00\n",
      "Heteroskedasticity (H):               5.42   Skew:                             0.09\n",
      "Prob(H) (two-sided):                  0.00   Kurtosis:                         4.59\n",
      "===================================================================================\n",
      "\n",
      "Warnings:\n",
      "[1] Covariance matrix calculated using the outer product of gradients (complex-step).\n"
     ]
    }
   ],
   "source": [
    "print(results_arima_model.summary())"
   ]
  },
  {
   "cell_type": "markdown",
   "id": "b7c9ccaf",
   "metadata": {},
   "source": [
    "### Ljung-Box Test"
   ]
  },
  {
   "cell_type": "code",
   "execution_count": 39,
   "id": "daf1effa",
   "metadata": {
    "ExecuteTime": {
     "end_time": "2023-09-10T20:40:23.154411Z",
     "start_time": "2023-09-10T20:40:23.127412Z"
    }
   },
   "outputs": [
    {
     "name": "stdout",
     "output_type": "stream",
     "text": [
      "Estatística de teste de Ljung-Box:  2.28\n",
      "p-valor:  0.99\n",
      "\n",
      "At a significance level of 5%, we fail to reject the null hypothesis in Ljung-Box Test,\n",
      "therefore there is no significant autocorrelation in the residuals of the model.\n"
     ]
    }
   ],
   "source": [
    "results_arima_lb = sm.stats.acorr_ljungbox(results_arima_model.resid, lags=[10])\n",
    "ljung_box = np.round(results_arima_lb.iloc[0, 0],2)\n",
    "p_value_lb = np.round(results_arima_lb.iloc[0, 1],2)\n",
    "\n",
    "# Imprimindo os resultados\n",
    "print(\"Estatística de teste de Ljung-Box: \", ljung_box)\n",
    "print(\"p-valor: \", p_value_lb)\n",
    "\n",
    "if p_value_lb > 0.05:\n",
    "    print('\\nAt a significance level of 5%, we fail to reject the null hypothesis in Ljung-Box Test,\\ntherefore there is no significant autocorrelation in the residuals of the model.')\n",
    "\n",
    "else:\n",
    "    print('\\nAt a significance level of 5%, we reject the null hypothesis in Ljung-Box Test, therefore there is significant autocorrelation in the residuals of the model.')\n",
    "\n"
   ]
  },
  {
   "cell_type": "code",
   "execution_count": 40,
   "id": "189e40e1",
   "metadata": {
    "ExecuteTime": {
     "end_time": "2023-09-10T20:40:23.185474Z",
     "start_time": "2023-09-10T20:40:23.158692Z"
    }
   },
   "outputs": [
    {
     "data": {
      "text/plain": [
       "date\n",
       "2018-04-02    3.550000\n",
       "2018-04-09    0.280000\n",
       "2018-04-16   -0.002007\n",
       "2018-04-23    0.055744\n",
       "2018-04-30   -0.086764\n",
       "                ...   \n",
       "2021-01-04    0.489034\n",
       "2021-01-11    0.179150\n",
       "2021-01-18   -0.293953\n",
       "2021-01-25   -0.175522\n",
       "2021-02-01   -0.391045\n",
       "Length: 152, dtype: float64"
      ]
     },
     "execution_count": 40,
     "metadata": {},
     "output_type": "execute_result"
    }
   ],
   "source": [
    "results_arima_model.resid"
   ]
  },
  {
   "cell_type": "code",
   "execution_count": 41,
   "id": "956a6cec",
   "metadata": {
    "ExecuteTime": {
     "end_time": "2023-09-10T20:40:23.520473Z",
     "start_time": "2023-09-10T20:40:23.189412Z"
    }
   },
   "outputs": [
    {
     "name": "stdout",
     "output_type": "stream",
     "text": [
      "Lag: 1\n",
      "Ljung-Box test statistic: 0.7857186694367713\n",
      "P-value: 0.3753978535665592\n",
      "\n",
      "Lag: 2\n",
      "Ljung-Box test statistic: 0.7857254410736345\n",
      "P-value: 0.675121421531204\n",
      "\n",
      "Lag: 3\n",
      "Ljung-Box test statistic: 0.7858564065915009\n",
      "P-value: 0.8528469172176713\n",
      "\n",
      "Lag: 4\n",
      "Ljung-Box test statistic: 0.9078086666595826\n",
      "P-value: 0.9234378758903452\n",
      "\n",
      "Lag: 5\n",
      "Ljung-Box test statistic: 1.2603251602882042\n",
      "P-value: 0.9389607479881115\n",
      "\n",
      "Lag: 6\n",
      "Ljung-Box test statistic: 1.2961086186799247\n",
      "P-value: 0.9718718433746458\n",
      "\n",
      "Lag: 7\n",
      "Ljung-Box test statistic: 2.1976726289928488\n",
      "P-value: 0.9480943194814356\n",
      "\n",
      "Lag: 8\n",
      "Ljung-Box test statistic: 2.24124492526489\n",
      "P-value: 0.9727082073870592\n",
      "\n",
      "Lag: 9\n",
      "Ljung-Box test statistic: 2.2484536751568758\n",
      "P-value: 0.986901947349933\n",
      "\n",
      "Lag: 10\n",
      "Ljung-Box test statistic: 2.281150778910725\n",
      "P-value: 0.99369587248094\n",
      "\n",
      "Lag: 11\n",
      "Ljung-Box test statistic: 2.31340905917366\n",
      "P-value: 0.9970568556135924\n",
      "\n",
      "Lag: 12\n",
      "Ljung-Box test statistic: 2.4131705284499123\n",
      "P-value: 0.9984582154319214\n",
      "\n",
      "Lag: 13\n",
      "Ljung-Box test statistic: 2.4515598656814794\n",
      "P-value: 0.9992986929432993\n",
      "\n",
      "Lag: 14\n",
      "Ljung-Box test statistic: 2.4672361602144024\n",
      "P-value: 0.9997039763431684\n",
      "\n",
      "Lag: 15\n",
      "Ljung-Box test statistic: 2.5394160420075504\n",
      "P-value: 0.9998593612762231\n",
      "\n",
      "Lag: 16\n",
      "Ljung-Box test statistic: 2.5395496635132804\n",
      "P-value: 0.9999453254041822\n",
      "\n",
      "Lag: 17\n",
      "Ljung-Box test statistic: 2.565514922690296\n",
      "P-value: 0.999977737921542\n",
      "\n",
      "Lag: 18\n",
      "Ljung-Box test statistic: 2.677409410583555\n",
      "P-value: 0.9999885044186375\n",
      "\n",
      "Lag: 19\n",
      "Ljung-Box test statistic: 2.746146579057388\n",
      "P-value: 0.9999947822032413\n",
      "\n",
      "Lag: 20\n",
      "Ljung-Box test statistic: 2.788924242090808\n",
      "P-value: 0.9999978281003749\n",
      "\n",
      "Lag: 21\n",
      "Ljung-Box test statistic: 2.813285893552165\n",
      "P-value: 0.9999991575906456\n",
      "\n",
      "Lag: 22\n",
      "Ljung-Box test statistic: 2.815088703495708\n",
      "P-value: 0.9999997019727482\n",
      "\n",
      "Lag: 23\n",
      "Ljung-Box test statistic: 2.867481743162514\n",
      "P-value: 0.9999998761454414\n",
      "\n",
      "Lag: 24\n",
      "Ljung-Box test statistic: 2.906298888547568\n",
      "P-value: 0.9999999513260123\n",
      "\n",
      "Lag: 25\n",
      "Ljung-Box test statistic: 2.9429584030229576\n",
      "P-value: 0.9999999811884187\n",
      "\n",
      "Lag: 26\n",
      "Ljung-Box test statistic: 3.0135874747788227\n",
      "P-value: 0.9999999917761931\n",
      "\n",
      "Lag: 27\n",
      "Ljung-Box test statistic: 3.1409752414291994\n",
      "P-value: 0.999999995529776\n",
      "\n",
      "Lag: 28\n",
      "Ljung-Box test statistic: 3.1466418027722467\n",
      "P-value: 0.9999999984881458\n",
      "\n",
      "Lag: 29\n",
      "Ljung-Box test statistic: 3.165969804375616\n",
      "P-value: 0.9999999994672172\n",
      "\n",
      "Lag: 30\n",
      "Ljung-Box test statistic: 3.1795860419013304\n",
      "P-value: 0.9999999998187336\n",
      "\n",
      "Lag: 31\n",
      "Ljung-Box test statistic: 3.3653737897787295\n",
      "P-value: 0.9999999998730873\n",
      "\n",
      "Lag: 32\n",
      "Ljung-Box test statistic: 3.4241313994237896\n",
      "P-value: 0.9999999999477638\n",
      "\n",
      "Lag: 33\n",
      "Ljung-Box test statistic: 3.424823701793331\n",
      "P-value: 0.9999999999833027\n",
      "\n",
      "Lag: 34\n",
      "Ljung-Box test statistic: 3.4540532227498484\n",
      "P-value: 0.9999999999940223\n",
      "\n",
      "Lag: 35\n",
      "Ljung-Box test statistic: 3.6512139078126014\n",
      "P-value: 0.9999999999955234\n",
      "\n",
      "Lag: 36\n",
      "Ljung-Box test statistic: 3.6534931885534263\n",
      "P-value: 0.9999999999985738\n",
      "\n",
      "Lag: 37\n",
      "Ljung-Box test statistic: 3.673072282063599\n",
      "P-value: 0.9999999999995144\n",
      "\n",
      "Lag: 38\n",
      "Ljung-Box test statistic: 3.806765348020531\n",
      "P-value: 0.999999999999723\n",
      "\n",
      "Lag: 39\n",
      "Ljung-Box test statistic: 4.0176060628963635\n",
      "P-value: 0.999999999999778\n",
      "\n",
      "Lag: 40\n",
      "Ljung-Box test statistic: 4.086390277323502\n",
      "P-value: 0.9999999999999052\n",
      "\n",
      "Lag: 41\n",
      "Ljung-Box test statistic: 4.112002371442088\n",
      "P-value: 0.9999999999999667\n",
      "\n",
      "Lag: 42\n",
      "Ljung-Box test statistic: 4.2095685881690645\n",
      "P-value: 0.9999999999999838\n",
      "\n",
      "Lag: 43\n",
      "Ljung-Box test statistic: 4.210051058384619\n",
      "P-value: 0.999999999999995\n",
      "\n",
      "Lag: 44\n",
      "Ljung-Box test statistic: 4.392861504041054\n",
      "P-value: 0.9999999999999964\n",
      "\n",
      "Lag: 45\n",
      "Ljung-Box test statistic: 4.45975934504915\n",
      "P-value: 0.9999999999999984\n",
      "\n",
      "Lag: 46\n",
      "Ljung-Box test statistic: 4.506084957152756\n",
      "P-value: 0.9999999999999994\n",
      "\n",
      "Lag: 47\n",
      "Ljung-Box test statistic: 4.507094237698462\n",
      "P-value: 0.9999999999999998\n",
      "\n",
      "Lag: 48\n",
      "Ljung-Box test statistic: 4.534359442045709\n",
      "P-value: 0.9999999999999999\n",
      "\n",
      "Lag: 49\n",
      "Ljung-Box test statistic: 4.71711962602835\n",
      "P-value: 1.0\n",
      "\n",
      "Lag: 50\n",
      "Ljung-Box test statistic: 4.718356323509842\n",
      "P-value: 1.0\n",
      "\n",
      "Lag: 51\n",
      "Ljung-Box test statistic: 4.731282112915774\n",
      "P-value: 1.0\n",
      "\n",
      "Lag: 52\n",
      "Ljung-Box test statistic: 4.767381714902663\n",
      "P-value: 1.0\n",
      "\n",
      "Lag: 53\n",
      "Ljung-Box test statistic: 4.934639519674769\n",
      "P-value: 1.0\n",
      "\n",
      "Lag: 54\n",
      "Ljung-Box test statistic: 4.96696870831285\n",
      "P-value: 1.0\n",
      "\n",
      "Lag: 55\n",
      "Ljung-Box test statistic: 4.991169020163261\n",
      "P-value: 1.0\n",
      "\n",
      "Lag: 56\n",
      "Ljung-Box test statistic: 5.295493393839769\n",
      "P-value: 1.0\n",
      "\n",
      "Lag: 57\n",
      "Ljung-Box test statistic: 5.327432647123193\n",
      "P-value: 1.0\n",
      "\n",
      "Lag: 58\n",
      "Ljung-Box test statistic: 5.460572652129278\n",
      "P-value: 1.0\n",
      "\n",
      "Lag: 59\n",
      "Ljung-Box test statistic: 5.5121713388079305\n",
      "P-value: 1.0\n",
      "\n",
      "Lag: 60\n",
      "Ljung-Box test statistic: 5.900467475515334\n",
      "P-value: 1.0\n",
      "\n",
      "Lag: 61\n",
      "Ljung-Box test statistic: 5.947807826390551\n",
      "P-value: 1.0\n",
      "\n",
      "Lag: 62\n",
      "Ljung-Box test statistic: 5.9689454468427305\n",
      "P-value: 1.0\n",
      "\n",
      "Lag: 63\n",
      "Ljung-Box test statistic: 6.065466999385926\n",
      "P-value: 1.0\n",
      "\n",
      "Lag: 64\n",
      "Ljung-Box test statistic: 6.068738245638427\n",
      "P-value: 1.0\n",
      "\n",
      "Lag: 65\n",
      "Ljung-Box test statistic: 6.071208175300498\n",
      "P-value: 1.0\n",
      "\n",
      "Lag: 66\n",
      "Ljung-Box test statistic: 6.078279649492487\n",
      "P-value: 1.0\n",
      "\n",
      "Lag: 67\n",
      "Ljung-Box test statistic: 6.078516482763686\n",
      "P-value: 1.0\n",
      "\n",
      "Lag: 68\n",
      "Ljung-Box test statistic: 6.130495456459165\n",
      "P-value: 1.0\n",
      "\n",
      "Lag: 69\n",
      "Ljung-Box test statistic: 6.130887316488957\n",
      "P-value: 1.0\n",
      "\n",
      "Lag: 70\n",
      "Ljung-Box test statistic: 6.245385004110035\n",
      "P-value: 1.0\n",
      "\n",
      "Lag: 71\n",
      "Ljung-Box test statistic: 6.255093029932023\n",
      "P-value: 1.0\n",
      "\n",
      "Lag: 72\n",
      "Ljung-Box test statistic: 6.605609969010442\n",
      "P-value: 1.0\n",
      "\n",
      "Lag: 73\n",
      "Ljung-Box test statistic: 6.757197451080105\n",
      "P-value: 1.0\n",
      "\n",
      "Lag: 74\n",
      "Ljung-Box test statistic: 6.8409137664707265\n",
      "P-value: 1.0\n",
      "\n",
      "Lag: 75\n",
      "Ljung-Box test statistic: 7.5437536271615615\n",
      "P-value: 1.0\n",
      "\n",
      "Lag: 76\n",
      "Ljung-Box test statistic: 7.675408095043468\n",
      "P-value: 1.0\n",
      "\n",
      "Lag: 77\n",
      "Ljung-Box test statistic: 8.098498777205519\n",
      "P-value: 1.0\n",
      "\n",
      "Lag: 78\n",
      "Ljung-Box test statistic: 8.131806591222992\n",
      "P-value: 1.0\n",
      "\n",
      "Lag: 79\n",
      "Ljung-Box test statistic: 8.149380015359565\n",
      "P-value: 1.0\n",
      "\n",
      "Lag: 80\n",
      "Ljung-Box test statistic: 8.162218172040022\n",
      "P-value: 1.0\n",
      "\n",
      "Lag: 81\n",
      "Ljung-Box test statistic: 8.259922290020565\n",
      "P-value: 1.0\n",
      "\n",
      "Lag: 82\n",
      "Ljung-Box test statistic: 8.27316338448999\n",
      "P-value: 1.0\n",
      "\n",
      "Lag: 83\n",
      "Ljung-Box test statistic: 8.459344811223174\n",
      "P-value: 1.0\n",
      "\n",
      "Lag: 84\n",
      "Ljung-Box test statistic: 10.976940755160602\n",
      "P-value: 1.0\n",
      "\n",
      "Lag: 85\n",
      "Ljung-Box test statistic: 11.698257505942752\n",
      "P-value: 1.0\n",
      "\n",
      "Lag: 86\n",
      "Ljung-Box test statistic: 11.721916919747322\n",
      "P-value: 1.0\n",
      "\n",
      "Lag: 87\n",
      "Ljung-Box test statistic: 11.865899637004823\n",
      "P-value: 1.0\n",
      "\n",
      "Lag: 88\n",
      "Ljung-Box test statistic: 11.902648927431889\n",
      "P-value: 1.0\n",
      "\n",
      "Lag: 89\n",
      "Ljung-Box test statistic: 13.339487094842983\n",
      "P-value: 1.0\n",
      "\n",
      "Lag: 90\n",
      "Ljung-Box test statistic: 16.98030886200281\n",
      "P-value: 1.0\n",
      "\n",
      "Lag: 91\n",
      "Ljung-Box test statistic: 18.691074574160556\n",
      "P-value: 1.0\n",
      "\n",
      "Lag: 92\n",
      "Ljung-Box test statistic: 21.368224740283367\n",
      "P-value: 0.9999999999999989\n",
      "\n",
      "Lag: 93\n",
      "Ljung-Box test statistic: 21.45657456640075\n",
      "P-value: 0.9999999999999993\n",
      "\n",
      "Lag: 94\n",
      "Ljung-Box test statistic: 21.533166876701024\n",
      "P-value: 0.9999999999999997\n",
      "\n",
      "Lag: 95\n",
      "Ljung-Box test statistic: 21.627900523087288\n",
      "P-value: 0.9999999999999998\n",
      "\n",
      "Lag: 96\n",
      "Ljung-Box test statistic: 21.676163623758217\n",
      "P-value: 0.9999999999999999\n",
      "\n",
      "Lag: 97\n",
      "Ljung-Box test statistic: 22.528079324776748\n",
      "P-value: 0.9999999999999998\n",
      "\n",
      "Lag: 98\n",
      "Ljung-Box test statistic: 22.535298808698137\n",
      "P-value: 0.9999999999999999\n",
      "\n",
      "Lag: 99\n",
      "Ljung-Box test statistic: 22.618345963209862\n",
      "P-value: 1.0\n",
      "\n",
      "Lag: 100\n",
      "Ljung-Box test statistic: 22.63805409636199\n",
      "P-value: 1.0\n",
      "\n"
     ]
    }
   ],
   "source": [
    "for lag in range(1, 101):\n",
    "    lag_results = sm.stats.acorr_ljungbox(results_arima_model.resid, lags=[lag], boxpierce=False)\n",
    "    print(f\"Lag: {lag}\\nLjung-Box test statistic: {lag_results.iloc[0, 0]}\\nP-value: {lag_results.iloc[0, 1]}\\n\")"
   ]
  },
  {
   "cell_type": "markdown",
   "id": "2385ee7e",
   "metadata": {},
   "source": [
    "### Forecasting"
   ]
  },
  {
   "cell_type": "code",
   "execution_count": 42,
   "id": "a12869c7",
   "metadata": {
    "ExecuteTime": {
     "end_time": "2023-09-10T20:40:23.552406Z",
     "start_time": "2023-09-10T20:40:23.525540Z"
    }
   },
   "outputs": [],
   "source": [
    "forecast_arima_model = results_arima_model.forecast(steps=8)"
   ]
  },
  {
   "cell_type": "code",
   "execution_count": 43,
   "id": "380a3e65",
   "metadata": {
    "ExecuteTime": {
     "end_time": "2023-09-10T20:40:23.568422Z",
     "start_time": "2023-09-10T20:40:23.556399Z"
    }
   },
   "outputs": [],
   "source": [
    "log_ts_test_price = np.round(np.log(ts_test_price),2)"
   ]
  },
  {
   "cell_type": "code",
   "execution_count": 44,
   "id": "2dfffeeb",
   "metadata": {
    "ExecuteTime": {
     "end_time": "2023-09-10T20:40:23.598524Z",
     "start_time": "2023-09-10T20:40:23.574701Z"
    }
   },
   "outputs": [
    {
     "data": {
      "text/plain": [
       "152    3.481322\n",
       "153    3.514484\n",
       "154    3.545908\n",
       "155    3.566260\n",
       "156    3.585502\n",
       "157    3.597992\n",
       "158    3.609773\n",
       "159    3.617438\n",
       "Name: predicted_mean, dtype: float64"
      ]
     },
     "execution_count": 44,
     "metadata": {},
     "output_type": "execute_result"
    }
   ],
   "source": [
    "forecast_arima_model"
   ]
  },
  {
   "cell_type": "code",
   "execution_count": 46,
   "id": "c2feee56",
   "metadata": {
    "ExecuteTime": {
     "end_time": "2023-09-10T20:40:23.660735Z",
     "start_time": "2023-09-10T20:40:23.633673Z"
    }
   },
   "outputs": [
    {
     "data": {
      "text/plain": [
       "date\n",
       "2021-02-08    24.33\n",
       "2021-02-15    21.88\n",
       "2021-02-22    33.38\n",
       "2021-03-01    45.62\n",
       "2021-03-08    46.22\n",
       "2021-03-15    29.77\n",
       "2021-03-22    54.61\n",
       "2021-03-29    47.94\n",
       "Name: portugal_price, dtype: float64"
      ]
     },
     "execution_count": 46,
     "metadata": {},
     "output_type": "execute_result"
    }
   ],
   "source": [
    "ts_test_price"
   ]
  },
  {
   "cell_type": "code",
   "execution_count": 110,
   "id": "10d5e518",
   "metadata": {
    "ExecuteTime": {
     "end_time": "2023-09-10T21:34:44.175069Z",
     "start_time": "2023-09-10T21:34:44.155883Z"
    }
   },
   "outputs": [
    {
     "name": "stdout",
     "output_type": "stream",
     "text": [
      "MAPE: 7.42 %\n",
      "MSE: 0.08\n"
     ]
    }
   ],
   "source": [
    "# Calcular o MAPE\n",
    "mape = mean_absolute_percentage_error(log_ts_test_price, forecast_arima_model)\n",
    "\n",
    "# Calcular o MSE\n",
    "mse = mean_squared_error(log_ts_test_price, forecast_arima_model)\n",
    "\n",
    "print(f'MAPE: {np.round(mape * 100,2)} %')\n",
    "print('MSE:', np.round(mse, 2))"
   ]
  },
  {
   "cell_type": "markdown",
   "id": "b7ebe6c2",
   "metadata": {},
   "source": [
    "## Arimax"
   ]
  },
  {
   "cell_type": "code",
   "execution_count": 81,
   "id": "8281ae4d",
   "metadata": {
    "ExecuteTime": {
     "end_time": "2023-09-10T21:07:52.157737Z",
     "start_time": "2023-09-10T21:07:52.126514Z"
    }
   },
   "outputs": [
    {
     "data": {
      "text/html": [
       "<div>\n",
       "<style scoped>\n",
       "    .dataframe tbody tr th:only-of-type {\n",
       "        vertical-align: middle;\n",
       "    }\n",
       "\n",
       "    .dataframe tbody tr th {\n",
       "        vertical-align: top;\n",
       "    }\n",
       "\n",
       "    .dataframe thead th {\n",
       "        text-align: right;\n",
       "    }\n",
       "</style>\n",
       "<table border=\"1\" class=\"dataframe\">\n",
       "  <thead>\n",
       "    <tr style=\"text-align: right;\">\n",
       "      <th></th>\n",
       "      <th>week_year</th>\n",
       "      <th>portugal_price</th>\n",
       "      <th>log_energy_volume</th>\n",
       "      <th>average_temperature</th>\n",
       "      <th>average_wind_speed</th>\n",
       "      <th>date</th>\n",
       "      <th>log_portugal_price</th>\n",
       "    </tr>\n",
       "  </thead>\n",
       "  <tbody>\n",
       "    <tr>\n",
       "      <th>0</th>\n",
       "      <td>2018-13</td>\n",
       "      <td>34.86</td>\n",
       "      <td>5.79</td>\n",
       "      <td>58.71</td>\n",
       "      <td>10.06</td>\n",
       "      <td>2018-04-02</td>\n",
       "      <td>3.55</td>\n",
       "    </tr>\n",
       "    <tr>\n",
       "      <th>1</th>\n",
       "      <td>2018-14</td>\n",
       "      <td>45.91</td>\n",
       "      <td>5.81</td>\n",
       "      <td>56.20</td>\n",
       "      <td>8.80</td>\n",
       "      <td>2018-04-09</td>\n",
       "      <td>3.83</td>\n",
       "    </tr>\n",
       "    <tr>\n",
       "      <th>2</th>\n",
       "      <td>2018-15</td>\n",
       "      <td>44.86</td>\n",
       "      <td>5.78</td>\n",
       "      <td>60.33</td>\n",
       "      <td>7.27</td>\n",
       "      <td>2018-04-16</td>\n",
       "      <td>3.80</td>\n",
       "    </tr>\n",
       "    <tr>\n",
       "      <th>3</th>\n",
       "      <td>2018-16</td>\n",
       "      <td>46.73</td>\n",
       "      <td>5.76</td>\n",
       "      <td>62.97</td>\n",
       "      <td>7.32</td>\n",
       "      <td>2018-04-23</td>\n",
       "      <td>3.84</td>\n",
       "    </tr>\n",
       "    <tr>\n",
       "      <th>4</th>\n",
       "      <td>2018-17</td>\n",
       "      <td>41.50</td>\n",
       "      <td>5.77</td>\n",
       "      <td>60.45</td>\n",
       "      <td>9.11</td>\n",
       "      <td>2018-04-30</td>\n",
       "      <td>3.73</td>\n",
       "    </tr>\n",
       "  </tbody>\n",
       "</table>\n",
       "</div>"
      ],
      "text/plain": [
       "  week_year  portugal_price  log_energy_volume  average_temperature  \\\n",
       "0   2018-13           34.86               5.79                58.71   \n",
       "1   2018-14           45.91               5.81                56.20   \n",
       "2   2018-15           44.86               5.78                60.33   \n",
       "3   2018-16           46.73               5.76                62.97   \n",
       "4   2018-17           41.50               5.77                60.45   \n",
       "\n",
       "   average_wind_speed       date  log_portugal_price  \n",
       "0               10.06 2018-04-02                3.55  \n",
       "1                8.80 2018-04-09                3.83  \n",
       "2                7.27 2018-04-16                3.80  \n",
       "3                7.32 2018-04-23                3.84  \n",
       "4                9.11 2018-04-30                3.73  "
      ]
     },
     "execution_count": 81,
     "metadata": {},
     "output_type": "execute_result"
    }
   ],
   "source": [
    "grouped_df.head()"
   ]
  },
  {
   "cell_type": "code",
   "execution_count": 84,
   "id": "6572c8cd",
   "metadata": {
    "ExecuteTime": {
     "end_time": "2023-09-10T21:09:29.347633Z",
     "start_time": "2023-09-10T21:09:29.315415Z"
    }
   },
   "outputs": [
    {
     "data": {
      "text/html": [
       "<div>\n",
       "<style scoped>\n",
       "    .dataframe tbody tr th:only-of-type {\n",
       "        vertical-align: middle;\n",
       "    }\n",
       "\n",
       "    .dataframe tbody tr th {\n",
       "        vertical-align: top;\n",
       "    }\n",
       "\n",
       "    .dataframe thead th {\n",
       "        text-align: right;\n",
       "    }\n",
       "</style>\n",
       "<table border=\"1\" class=\"dataframe\">\n",
       "  <thead>\n",
       "    <tr style=\"text-align: right;\">\n",
       "      <th></th>\n",
       "      <th>Volume Energia</th>\n",
       "      <th>Velocidade Vento</th>\n",
       "    </tr>\n",
       "  </thead>\n",
       "  <tbody>\n",
       "    <tr>\n",
       "      <th>0</th>\n",
       "      <td>5.79</td>\n",
       "      <td>10.06</td>\n",
       "    </tr>\n",
       "    <tr>\n",
       "      <th>1</th>\n",
       "      <td>5.81</td>\n",
       "      <td>8.80</td>\n",
       "    </tr>\n",
       "    <tr>\n",
       "      <th>2</th>\n",
       "      <td>5.78</td>\n",
       "      <td>7.27</td>\n",
       "    </tr>\n",
       "    <tr>\n",
       "      <th>3</th>\n",
       "      <td>5.76</td>\n",
       "      <td>7.32</td>\n",
       "    </tr>\n",
       "    <tr>\n",
       "      <th>4</th>\n",
       "      <td>5.77</td>\n",
       "      <td>9.11</td>\n",
       "    </tr>\n",
       "    <tr>\n",
       "      <th>...</th>\n",
       "      <td>...</td>\n",
       "      <td>...</td>\n",
       "    </tr>\n",
       "    <tr>\n",
       "      <th>155</th>\n",
       "      <td>5.77</td>\n",
       "      <td>5.84</td>\n",
       "    </tr>\n",
       "    <tr>\n",
       "      <th>156</th>\n",
       "      <td>5.77</td>\n",
       "      <td>7.28</td>\n",
       "    </tr>\n",
       "    <tr>\n",
       "      <th>157</th>\n",
       "      <td>5.81</td>\n",
       "      <td>11.05</td>\n",
       "    </tr>\n",
       "    <tr>\n",
       "      <th>158</th>\n",
       "      <td>5.78</td>\n",
       "      <td>6.78</td>\n",
       "    </tr>\n",
       "    <tr>\n",
       "      <th>159</th>\n",
       "      <td>5.74</td>\n",
       "      <td>7.52</td>\n",
       "    </tr>\n",
       "  </tbody>\n",
       "</table>\n",
       "<p>160 rows × 2 columns</p>\n",
       "</div>"
      ],
      "text/plain": [
       "     Volume Energia  Velocidade Vento\n",
       "0              5.79             10.06\n",
       "1              5.81              8.80\n",
       "2              5.78              7.27\n",
       "3              5.76              7.32\n",
       "4              5.77              9.11\n",
       "..              ...               ...\n",
       "155            5.77              5.84\n",
       "156            5.77              7.28\n",
       "157            5.81             11.05\n",
       "158            5.78              6.78\n",
       "159            5.74              7.52\n",
       "\n",
       "[160 rows x 2 columns]"
      ]
     },
     "execution_count": 84,
     "metadata": {},
     "output_type": "execute_result"
    }
   ],
   "source": [
    "reg = grouped_df[[\"log_energy_volume\", \"average_wind_speed\"]]\n",
    "reg.columns = [\"Volume Energia\", \"Velocidade Vento\"]\n",
    "\n",
    "reg"
   ]
  },
  {
   "cell_type": "code",
   "execution_count": 85,
   "id": "4631a49c",
   "metadata": {
    "ExecuteTime": {
     "end_time": "2023-09-10T21:09:41.153955Z",
     "start_time": "2023-09-10T21:09:41.135773Z"
    }
   },
   "outputs": [],
   "source": [
    "# Divida os DataFrames 'reg' em 'reg_treino' e 'reg_teste'\n",
    "reg_treino = reg.iloc[:152, :]\n",
    "reg_teste = reg.iloc[152:160, :]"
   ]
  },
  {
   "cell_type": "code",
   "execution_count": 93,
   "id": "f16b8f01",
   "metadata": {
    "ExecuteTime": {
     "end_time": "2023-09-10T21:19:58.141807Z",
     "start_time": "2023-09-10T21:19:58.087800Z"
    }
   },
   "outputs": [
    {
     "data": {
      "text/html": [
       "<div>\n",
       "<style scoped>\n",
       "    .dataframe tbody tr th:only-of-type {\n",
       "        vertical-align: middle;\n",
       "    }\n",
       "\n",
       "    .dataframe tbody tr th {\n",
       "        vertical-align: top;\n",
       "    }\n",
       "\n",
       "    .dataframe thead th {\n",
       "        text-align: right;\n",
       "    }\n",
       "</style>\n",
       "<table border=\"1\" class=\"dataframe\">\n",
       "  <thead>\n",
       "    <tr style=\"text-align: right;\">\n",
       "      <th></th>\n",
       "      <th>week_year</th>\n",
       "      <th>portugal_price</th>\n",
       "      <th>log_energy_volume</th>\n",
       "      <th>average_temperature</th>\n",
       "      <th>average_wind_speed</th>\n",
       "      <th>date</th>\n",
       "      <th>log_portugal_price</th>\n",
       "    </tr>\n",
       "  </thead>\n",
       "  <tbody>\n",
       "    <tr>\n",
       "      <th>0</th>\n",
       "      <td>2018-13</td>\n",
       "      <td>34.86</td>\n",
       "      <td>5.79</td>\n",
       "      <td>58.71</td>\n",
       "      <td>10.06</td>\n",
       "      <td>2018-04-02</td>\n",
       "      <td>3.55</td>\n",
       "    </tr>\n",
       "    <tr>\n",
       "      <th>1</th>\n",
       "      <td>2018-14</td>\n",
       "      <td>45.91</td>\n",
       "      <td>5.81</td>\n",
       "      <td>56.20</td>\n",
       "      <td>8.80</td>\n",
       "      <td>2018-04-09</td>\n",
       "      <td>3.83</td>\n",
       "    </tr>\n",
       "    <tr>\n",
       "      <th>2</th>\n",
       "      <td>2018-15</td>\n",
       "      <td>44.86</td>\n",
       "      <td>5.78</td>\n",
       "      <td>60.33</td>\n",
       "      <td>7.27</td>\n",
       "      <td>2018-04-16</td>\n",
       "      <td>3.80</td>\n",
       "    </tr>\n",
       "    <tr>\n",
       "      <th>3</th>\n",
       "      <td>2018-16</td>\n",
       "      <td>46.73</td>\n",
       "      <td>5.76</td>\n",
       "      <td>62.97</td>\n",
       "      <td>7.32</td>\n",
       "      <td>2018-04-23</td>\n",
       "      <td>3.84</td>\n",
       "    </tr>\n",
       "    <tr>\n",
       "      <th>4</th>\n",
       "      <td>2018-17</td>\n",
       "      <td>41.50</td>\n",
       "      <td>5.77</td>\n",
       "      <td>60.45</td>\n",
       "      <td>9.11</td>\n",
       "      <td>2018-04-30</td>\n",
       "      <td>3.73</td>\n",
       "    </tr>\n",
       "    <tr>\n",
       "      <th>...</th>\n",
       "      <td>...</td>\n",
       "      <td>...</td>\n",
       "      <td>...</td>\n",
       "      <td>...</td>\n",
       "      <td>...</td>\n",
       "      <td>...</td>\n",
       "      <td>...</td>\n",
       "    </tr>\n",
       "    <tr>\n",
       "      <th>147</th>\n",
       "      <td>2021-01</td>\n",
       "      <td>73.27</td>\n",
       "      <td>5.81</td>\n",
       "      <td>33.43</td>\n",
       "      <td>6.44</td>\n",
       "      <td>2021-01-04</td>\n",
       "      <td>4.29</td>\n",
       "    </tr>\n",
       "    <tr>\n",
       "      <th>148</th>\n",
       "      <td>2021-02</td>\n",
       "      <td>80.73</td>\n",
       "      <td>5.87</td>\n",
       "      <td>31.86</td>\n",
       "      <td>6.80</td>\n",
       "      <td>2021-01-11</td>\n",
       "      <td>4.39</td>\n",
       "    </tr>\n",
       "    <tr>\n",
       "      <th>149</th>\n",
       "      <td>2021-03</td>\n",
       "      <td>55.77</td>\n",
       "      <td>5.84</td>\n",
       "      <td>37.81</td>\n",
       "      <td>8.65</td>\n",
       "      <td>2021-01-18</td>\n",
       "      <td>4.02</td>\n",
       "    </tr>\n",
       "    <tr>\n",
       "      <th>150</th>\n",
       "      <td>2021-04</td>\n",
       "      <td>45.79</td>\n",
       "      <td>5.82</td>\n",
       "      <td>46.00</td>\n",
       "      <td>8.11</td>\n",
       "      <td>2021-01-25</td>\n",
       "      <td>3.82</td>\n",
       "    </tr>\n",
       "    <tr>\n",
       "      <th>151</th>\n",
       "      <td>2021-05</td>\n",
       "      <td>30.73</td>\n",
       "      <td>5.80</td>\n",
       "      <td>43.70</td>\n",
       "      <td>9.16</td>\n",
       "      <td>2021-02-01</td>\n",
       "      <td>3.43</td>\n",
       "    </tr>\n",
       "  </tbody>\n",
       "</table>\n",
       "<p>152 rows × 7 columns</p>\n",
       "</div>"
      ],
      "text/plain": [
       "    week_year  portugal_price  log_energy_volume  average_temperature  \\\n",
       "0     2018-13           34.86               5.79                58.71   \n",
       "1     2018-14           45.91               5.81                56.20   \n",
       "2     2018-15           44.86               5.78                60.33   \n",
       "3     2018-16           46.73               5.76                62.97   \n",
       "4     2018-17           41.50               5.77                60.45   \n",
       "..        ...             ...                ...                  ...   \n",
       "147   2021-01           73.27               5.81                33.43   \n",
       "148   2021-02           80.73               5.87                31.86   \n",
       "149   2021-03           55.77               5.84                37.81   \n",
       "150   2021-04           45.79               5.82                46.00   \n",
       "151   2021-05           30.73               5.80                43.70   \n",
       "\n",
       "     average_wind_speed       date  log_portugal_price  \n",
       "0                 10.06 2018-04-02                3.55  \n",
       "1                  8.80 2018-04-09                3.83  \n",
       "2                  7.27 2018-04-16                3.80  \n",
       "3                  7.32 2018-04-23                3.84  \n",
       "4                  9.11 2018-04-30                3.73  \n",
       "..                  ...        ...                 ...  \n",
       "147                6.44 2021-01-04                4.29  \n",
       "148                6.80 2021-01-11                4.39  \n",
       "149                8.65 2021-01-18                4.02  \n",
       "150                8.11 2021-01-25                3.82  \n",
       "151                9.16 2021-02-01                3.43  \n",
       "\n",
       "[152 rows x 7 columns]"
      ]
     },
     "execution_count": 93,
     "metadata": {},
     "output_type": "execute_result"
    }
   ],
   "source": [
    "grouped_df_teste = grouped_df.copy()\n",
    "grouped_df_teste = grouped_df_teste.iloc[:152, :]\n",
    "\n",
    "# Reindexe a série temporal para corresponder ao índice de reg_treino\n",
    "grouped_df_teste['log_portugal_price'] = grouped_df_teste['log_portugal_price'].reindex(reg_treino.index)\n",
    "\n",
    "grouped_df_teste"
   ]
  },
  {
   "cell_type": "code",
   "execution_count": 94,
   "id": "93599518",
   "metadata": {
    "ExecuteTime": {
     "end_time": "2023-09-10T21:20:19.501794Z",
     "start_time": "2023-09-10T21:20:18.946246Z"
    }
   },
   "outputs": [],
   "source": [
    "# Crie um modelo ARIMA com regressores exógenos\n",
    "model_arimax1 = sm.tsa.ARIMA(grouped_df_teste['log_portugal_price'], order=(2, 1, 3), exog=reg_treino)\n",
    "\n",
    "# Ajuste o modelo aos dados\n",
    "model_arimax1 = model_arimax1.fit()\n"
   ]
  },
  {
   "cell_type": "code",
   "execution_count": 96,
   "id": "110b2f08",
   "metadata": {
    "ExecuteTime": {
     "end_time": "2023-09-10T21:20:34.291477Z",
     "start_time": "2023-09-10T21:20:34.240613Z"
    }
   },
   "outputs": [
    {
     "data": {
      "text/html": [
       "<table class=\"simpletable\">\n",
       "<caption>SARIMAX Results</caption>\n",
       "<tr>\n",
       "  <th>Dep. Variable:</th>   <td>log_portugal_price</td> <th>  No. Observations:  </th>    <td>152</td>  \n",
       "</tr>\n",
       "<tr>\n",
       "  <th>Model:</th>             <td>ARIMA(2, 1, 3)</td>   <th>  Log Likelihood     </th>  <td>115.870</td>\n",
       "</tr>\n",
       "<tr>\n",
       "  <th>Date:</th>             <td>Sun, 10 Sep 2023</td>  <th>  AIC                </th> <td>-215.740</td>\n",
       "</tr>\n",
       "<tr>\n",
       "  <th>Time:</th>                 <td>18:20:34</td>      <th>  BIC                </th> <td>-191.602</td>\n",
       "</tr>\n",
       "<tr>\n",
       "  <th>Sample:</th>                   <td>0</td>         <th>  HQIC               </th> <td>-205.934</td>\n",
       "</tr>\n",
       "<tr>\n",
       "  <th></th>                       <td> - 152</td>       <th>                     </th>     <td> </td>   \n",
       "</tr>\n",
       "<tr>\n",
       "  <th>Covariance Type:</th>         <td>opg</td>        <th>                     </th>     <td> </td>   \n",
       "</tr>\n",
       "</table>\n",
       "<table class=\"simpletable\">\n",
       "<tr>\n",
       "          <td></td>            <th>coef</th>     <th>std err</th>      <th>z</th>      <th>P>|z|</th>  <th>[0.025</th>    <th>0.975]</th>  \n",
       "</tr>\n",
       "<tr>\n",
       "  <th>Volume Energia</th>   <td>    1.1472</td> <td>    0.340</td> <td>    3.372</td> <td> 0.001</td> <td>    0.480</td> <td>    1.814</td>\n",
       "</tr>\n",
       "<tr>\n",
       "  <th>Velocidade Vento</th> <td>   -0.0435</td> <td>    0.004</td> <td>  -10.571</td> <td> 0.000</td> <td>   -0.052</td> <td>   -0.035</td>\n",
       "</tr>\n",
       "<tr>\n",
       "  <th>ar.L1</th>            <td>    0.2740</td> <td>    0.663</td> <td>    0.413</td> <td> 0.679</td> <td>   -1.026</td> <td>    1.574</td>\n",
       "</tr>\n",
       "<tr>\n",
       "  <th>ar.L2</th>            <td>    0.3457</td> <td>    0.578</td> <td>    0.599</td> <td> 0.549</td> <td>   -0.786</td> <td>    1.478</td>\n",
       "</tr>\n",
       "<tr>\n",
       "  <th>ma.L1</th>            <td>   -0.3203</td> <td>    0.668</td> <td>   -0.479</td> <td> 0.632</td> <td>   -1.630</td> <td>    0.990</td>\n",
       "</tr>\n",
       "<tr>\n",
       "  <th>ma.L2</th>            <td>   -0.3641</td> <td>    0.624</td> <td>   -0.583</td> <td> 0.560</td> <td>   -1.587</td> <td>    0.859</td>\n",
       "</tr>\n",
       "<tr>\n",
       "  <th>ma.L3</th>            <td>   -0.1197</td> <td>    0.128</td> <td>   -0.937</td> <td> 0.349</td> <td>   -0.370</td> <td>    0.131</td>\n",
       "</tr>\n",
       "<tr>\n",
       "  <th>sigma2</th>           <td>    0.0125</td> <td>    0.001</td> <td>   12.162</td> <td> 0.000</td> <td>    0.011</td> <td>    0.015</td>\n",
       "</tr>\n",
       "</table>\n",
       "<table class=\"simpletable\">\n",
       "<tr>\n",
       "  <th>Ljung-Box (L1) (Q):</th>     <td>0.00</td> <th>  Jarque-Bera (JB):  </th> <td>53.92</td>\n",
       "</tr>\n",
       "<tr>\n",
       "  <th>Prob(Q):</th>                <td>1.00</td> <th>  Prob(JB):          </th> <td>0.00</td> \n",
       "</tr>\n",
       "<tr>\n",
       "  <th>Heteroskedasticity (H):</th> <td>3.54</td> <th>  Skew:              </th> <td>-0.11</td>\n",
       "</tr>\n",
       "<tr>\n",
       "  <th>Prob(H) (two-sided):</th>    <td>0.00</td> <th>  Kurtosis:          </th> <td>5.92</td> \n",
       "</tr>\n",
       "</table><br/><br/>Warnings:<br/>[1] Covariance matrix calculated using the outer product of gradients (complex-step)."
      ],
      "text/plain": [
       "<class 'statsmodels.iolib.summary.Summary'>\n",
       "\"\"\"\n",
       "                               SARIMAX Results                                \n",
       "==============================================================================\n",
       "Dep. Variable:     log_portugal_price   No. Observations:                  152\n",
       "Model:                 ARIMA(2, 1, 3)   Log Likelihood                 115.870\n",
       "Date:                Sun, 10 Sep 2023   AIC                           -215.740\n",
       "Time:                        18:20:34   BIC                           -191.602\n",
       "Sample:                             0   HQIC                          -205.934\n",
       "                                - 152                                         \n",
       "Covariance Type:                  opg                                         \n",
       "====================================================================================\n",
       "                       coef    std err          z      P>|z|      [0.025      0.975]\n",
       "------------------------------------------------------------------------------------\n",
       "Volume Energia       1.1472      0.340      3.372      0.001       0.480       1.814\n",
       "Velocidade Vento    -0.0435      0.004    -10.571      0.000      -0.052      -0.035\n",
       "ar.L1                0.2740      0.663      0.413      0.679      -1.026       1.574\n",
       "ar.L2                0.3457      0.578      0.599      0.549      -0.786       1.478\n",
       "ma.L1               -0.3203      0.668     -0.479      0.632      -1.630       0.990\n",
       "ma.L2               -0.3641      0.624     -0.583      0.560      -1.587       0.859\n",
       "ma.L3               -0.1197      0.128     -0.937      0.349      -0.370       0.131\n",
       "sigma2               0.0125      0.001     12.162      0.000       0.011       0.015\n",
       "===================================================================================\n",
       "Ljung-Box (L1) (Q):                   0.00   Jarque-Bera (JB):                53.92\n",
       "Prob(Q):                              1.00   Prob(JB):                         0.00\n",
       "Heteroskedasticity (H):               3.54   Skew:                            -0.11\n",
       "Prob(H) (two-sided):                  0.00   Kurtosis:                         5.92\n",
       "===================================================================================\n",
       "\n",
       "Warnings:\n",
       "[1] Covariance matrix calculated using the outer product of gradients (complex-step).\n",
       "\"\"\""
      ]
     },
     "execution_count": 96,
     "metadata": {},
     "output_type": "execute_result"
    }
   ],
   "source": [
    "model_arimax1.summary()"
   ]
  },
  {
   "cell_type": "markdown",
   "id": "841d38c4",
   "metadata": {},
   "source": [
    "### Ljung-Box"
   ]
  },
  {
   "cell_type": "code",
   "execution_count": 113,
   "id": "05b39ca3",
   "metadata": {
    "ExecuteTime": {
     "end_time": "2023-09-10T21:40:13.920882Z",
     "start_time": "2023-09-10T21:40:13.903885Z"
    }
   },
   "outputs": [
    {
     "name": "stdout",
     "output_type": "stream",
     "text": [
      "Estatística de teste de Ljung-Box:  2.06\n",
      "p-valor:  1.0\n",
      "\n",
      "At a significance level of 5%, we fail to reject the null hypothesis in Ljung-Box Test,\n",
      "therefore there is no significant autocorrelation in the residuals of the model.\n"
     ]
    }
   ],
   "source": [
    "results_arima_lb = sm.stats.acorr_ljungbox(model_arimax1.resid, lags=[10])\n",
    "ljung_box = np.round(results_arima_lb.iloc[0, 0],2)\n",
    "p_value_lb = np.round(results_arima_lb.iloc[0, 1],2)\n",
    "\n",
    "# Imprimindo os resultados\n",
    "print(\"Estatística de teste de Ljung-Box: \", ljung_box)\n",
    "print(\"p-valor: \", p_value_lb)\n",
    "\n",
    "if p_value_lb > 0.05:\n",
    "    print('\\nAt a significance level of 5%, we fail to reject the null hypothesis in Ljung-Box Test,\\ntherefore there is no significant autocorrelation in the residuals of the model.')\n",
    "\n",
    "else:\n",
    "    print('\\nAt a significance level of 5%, we reject the null hypothesis in Ljung-Box Test, therefore there is significant autocorrelation in the residuals of the model.')\n",
    "\n"
   ]
  },
  {
   "cell_type": "code",
   "execution_count": 98,
   "id": "51b0be7a",
   "metadata": {
    "ExecuteTime": {
     "end_time": "2023-09-10T21:25:45.342863Z",
     "start_time": "2023-09-10T21:25:45.050341Z"
    }
   },
   "outputs": [
    {
     "name": "stdout",
     "output_type": "stream",
     "text": [
      "Lag: 1\n",
      "Ljung-Box test statistic: 0.5556466113880117\n",
      "P-value: 0.4560196264250702\n",
      "\n",
      "Lag: 2\n",
      "Ljung-Box test statistic: 0.6178146777677034\n",
      "P-value: 0.7342488031878343\n",
      "\n",
      "Lag: 3\n",
      "Ljung-Box test statistic: 0.6336148459016948\n",
      "P-value: 0.8886957215124162\n",
      "\n",
      "Lag: 4\n",
      "Ljung-Box test statistic: 0.633631410209328\n",
      "P-value: 0.9592541462133953\n",
      "\n",
      "Lag: 5\n",
      "Ljung-Box test statistic: 1.7986566253239842\n",
      "P-value: 0.8762437610764301\n",
      "\n",
      "Lag: 6\n",
      "Ljung-Box test statistic: 1.798660084096003\n",
      "P-value: 0.9372533362822137\n",
      "\n",
      "Lag: 7\n",
      "Ljung-Box test statistic: 1.8287816450798826\n",
      "P-value: 0.9687062861584071\n",
      "\n",
      "Lag: 8\n",
      "Ljung-Box test statistic: 1.9477011558217818\n",
      "P-value: 0.9825734109065976\n",
      "\n",
      "Lag: 9\n",
      "Ljung-Box test statistic: 1.985582179306444\n",
      "P-value: 0.9916935554741284\n",
      "\n",
      "Lag: 10\n",
      "Ljung-Box test statistic: 2.0629835845716538\n",
      "P-value: 0.9958342365799029\n",
      "\n",
      "Lag: 11\n",
      "Ljung-Box test statistic: 2.3348644904049904\n",
      "P-value: 0.996930811249686\n",
      "\n",
      "Lag: 12\n",
      "Ljung-Box test statistic: 2.4910073364253473\n",
      "P-value: 0.9981944553764353\n",
      "\n",
      "Lag: 13\n",
      "Ljung-Box test statistic: 2.5946257096706296\n",
      "P-value: 0.9990457071435744\n",
      "\n",
      "Lag: 14\n",
      "Ljung-Box test statistic: 2.608533293407808\n",
      "P-value: 0.9995885657887841\n",
      "\n",
      "Lag: 15\n",
      "Ljung-Box test statistic: 2.6591665655200316\n",
      "P-value: 0.9998113507727919\n",
      "\n",
      "Lag: 16\n",
      "Ljung-Box test statistic: 2.6602336284305865\n",
      "P-value: 0.9999248090875041\n",
      "\n",
      "Lag: 17\n",
      "Ljung-Box test statistic: 2.660342918395145\n",
      "P-value: 0.9999709335319563\n",
      "\n",
      "Lag: 18\n",
      "Ljung-Box test statistic: 2.714715720299064\n",
      "P-value: 0.999987193684624\n",
      "\n",
      "Lag: 19\n",
      "Ljung-Box test statistic: 2.7171673118152704\n",
      "P-value: 0.9999952209625528\n",
      "\n",
      "Lag: 20\n",
      "Ljung-Box test statistic: 2.7213091189311256\n",
      "P-value: 0.9999982483523231\n",
      "\n",
      "Lag: 21\n",
      "Ljung-Box test statistic: 2.826526693557098\n",
      "P-value: 0.999999120293161\n",
      "\n",
      "Lag: 22\n",
      "Ljung-Box test statistic: 2.961849183310503\n",
      "P-value: 0.9999995123391094\n",
      "\n",
      "Lag: 23\n",
      "Ljung-Box test statistic: 2.9623862448220404\n",
      "P-value: 0.9999998275144376\n",
      "\n",
      "Lag: 24\n",
      "Ljung-Box test statistic: 3.1685748483091354\n",
      "P-value: 0.9999998782444178\n",
      "\n",
      "Lag: 25\n",
      "Ljung-Box test statistic: 3.1686557790033616\n",
      "P-value: 0.9999999572861207\n",
      "\n",
      "Lag: 26\n",
      "Ljung-Box test statistic: 3.1753747780888717\n",
      "P-value: 0.999999984935391\n",
      "\n",
      "Lag: 27\n",
      "Ljung-Box test statistic: 3.353403987491633\n",
      "P-value: 0.9999999901958659\n",
      "\n",
      "Lag: 28\n",
      "Ljung-Box test statistic: 3.3743454459804876\n",
      "P-value: 0.9999999963817896\n",
      "\n",
      "Lag: 29\n",
      "Ljung-Box test statistic: 3.3812271326882275\n",
      "P-value: 0.9999999987487113\n",
      "\n",
      "Lag: 30\n",
      "Ljung-Box test statistic: 3.4118469671976737\n",
      "P-value: 0.9999999995315855\n",
      "\n",
      "Lag: 31\n",
      "Ljung-Box test statistic: 3.433681313280501\n",
      "P-value: 0.999999999832149\n",
      "\n",
      "Lag: 32\n",
      "Ljung-Box test statistic: 3.7114078124370016\n",
      "P-value: 0.9999999998342535\n",
      "\n",
      "Lag: 33\n",
      "Ljung-Box test statistic: 3.90043306362363\n",
      "P-value: 0.9999999998857907\n",
      "\n",
      "Lag: 34\n",
      "Ljung-Box test statistic: 3.906239131297499\n",
      "P-value: 0.9999999999608579\n",
      "\n",
      "Lag: 35\n",
      "Ljung-Box test statistic: 4.234072756949844\n",
      "P-value: 0.9999999999545477\n",
      "\n",
      "Lag: 36\n",
      "Ljung-Box test statistic: 4.55015913043619\n",
      "P-value: 0.9999999999514106\n",
      "\n",
      "Lag: 37\n",
      "Ljung-Box test statistic: 4.5773930135297904\n",
      "P-value: 0.9999999999814044\n",
      "\n",
      "Lag: 38\n",
      "Ljung-Box test statistic: 4.631838853237659\n",
      "P-value: 0.9999999999922023\n",
      "\n",
      "Lag: 39\n",
      "Ljung-Box test statistic: 4.739448653342059\n",
      "P-value: 0.9999999999960412\n",
      "\n",
      "Lag: 40\n",
      "Ljung-Box test statistic: 4.800516429988878\n",
      "P-value: 0.9999999999983057\n",
      "\n",
      "Lag: 41\n",
      "Ljung-Box test statistic: 4.891885786405398\n",
      "P-value: 0.9999999999991902\n",
      "\n",
      "Lag: 42\n",
      "Ljung-Box test statistic: 4.959624415714586\n",
      "P-value: 0.999999999999646\n",
      "\n",
      "Lag: 43\n",
      "Ljung-Box test statistic: 5.424280921738055\n",
      "P-value: 0.9999999999993443\n",
      "\n",
      "Lag: 44\n",
      "Ljung-Box test statistic: 5.4812997352723\n",
      "P-value: 0.9999999999997204\n",
      "\n",
      "Lag: 45\n",
      "Ljung-Box test statistic: 6.548567686125926\n",
      "P-value: 0.9999999999968118\n",
      "\n",
      "Lag: 46\n",
      "Ljung-Box test statistic: 6.548650388132519\n",
      "P-value: 0.9999999999988072\n",
      "\n",
      "Lag: 47\n",
      "Ljung-Box test statistic: 6.571061164969217\n",
      "P-value: 0.9999999999995267\n",
      "\n",
      "Lag: 48\n",
      "Ljung-Box test statistic: 6.578499517328441\n",
      "P-value: 0.9999999999998221\n",
      "\n",
      "Lag: 49\n",
      "Ljung-Box test statistic: 6.611292516082275\n",
      "P-value: 0.9999999999999282\n",
      "\n",
      "Lag: 50\n",
      "Ljung-Box test statistic: 6.707269878552797\n",
      "P-value: 0.9999999999999645\n",
      "\n",
      "Lag: 51\n",
      "Ljung-Box test statistic: 6.707627246118396\n",
      "P-value: 0.9999999999999872\n",
      "\n",
      "Lag: 52\n",
      "Ljung-Box test statistic: 6.749729139496109\n",
      "P-value: 0.9999999999999948\n",
      "\n",
      "Lag: 53\n",
      "Ljung-Box test statistic: 6.759031825131274\n",
      "P-value: 0.9999999999999981\n",
      "\n",
      "Lag: 54\n",
      "Ljung-Box test statistic: 6.796522616189989\n",
      "P-value: 0.9999999999999992\n",
      "\n",
      "Lag: 55\n",
      "Ljung-Box test statistic: 6.861125560179517\n",
      "P-value: 0.9999999999999997\n",
      "\n",
      "Lag: 56\n",
      "Ljung-Box test statistic: 6.947233334669465\n",
      "P-value: 0.9999999999999999\n",
      "\n",
      "Lag: 57\n",
      "Ljung-Box test statistic: 7.738480714683052\n",
      "P-value: 0.9999999999999992\n",
      "\n",
      "Lag: 58\n",
      "Ljung-Box test statistic: 7.747044646978017\n",
      "P-value: 0.9999999999999997\n",
      "\n",
      "Lag: 59\n",
      "Ljung-Box test statistic: 7.747818734165422\n",
      "P-value: 0.9999999999999999\n",
      "\n",
      "Lag: 60\n",
      "Ljung-Box test statistic: 7.760523754911801\n",
      "P-value: 1.0\n",
      "\n",
      "Lag: 61\n",
      "Ljung-Box test statistic: 7.837533705330972\n",
      "P-value: 1.0\n",
      "\n",
      "Lag: 62\n",
      "Ljung-Box test statistic: 8.157466821022622\n",
      "P-value: 1.0\n",
      "\n",
      "Lag: 63\n",
      "Ljung-Box test statistic: 8.166849901082486\n",
      "P-value: 1.0\n",
      "\n",
      "Lag: 64\n",
      "Ljung-Box test statistic: 8.172315862710075\n",
      "P-value: 1.0\n",
      "\n",
      "Lag: 65\n",
      "Ljung-Box test statistic: 8.1766664905373\n",
      "P-value: 1.0\n",
      "\n",
      "Lag: 66\n",
      "Ljung-Box test statistic: 8.29450269615713\n",
      "P-value: 1.0\n",
      "\n",
      "Lag: 67\n",
      "Ljung-Box test statistic: 8.297946933954194\n",
      "P-value: 1.0\n",
      "\n",
      "Lag: 68\n",
      "Ljung-Box test statistic: 8.550594481180205\n",
      "P-value: 1.0\n",
      "\n",
      "Lag: 69\n",
      "Ljung-Box test statistic: 8.57174230928365\n",
      "P-value: 1.0\n",
      "\n",
      "Lag: 70\n",
      "Ljung-Box test statistic: 8.697055815062889\n",
      "P-value: 1.0\n",
      "\n",
      "Lag: 71\n",
      "Ljung-Box test statistic: 8.754571258127967\n",
      "P-value: 1.0\n",
      "\n",
      "Lag: 72\n",
      "Ljung-Box test statistic: 8.833132329102805\n",
      "P-value: 1.0\n",
      "\n",
      "Lag: 73\n",
      "Ljung-Box test statistic: 9.18022268190211\n",
      "P-value: 1.0\n",
      "\n",
      "Lag: 74\n",
      "Ljung-Box test statistic: 9.2789955704849\n",
      "P-value: 1.0\n",
      "\n",
      "Lag: 75\n",
      "Ljung-Box test statistic: 9.332942841548936\n",
      "P-value: 1.0\n",
      "\n",
      "Lag: 76\n",
      "Ljung-Box test statistic: 9.34814197053194\n",
      "P-value: 1.0\n",
      "\n",
      "Lag: 77\n",
      "Ljung-Box test statistic: 9.35848828427161\n",
      "P-value: 1.0\n",
      "\n",
      "Lag: 78\n",
      "Ljung-Box test statistic: 9.360405142400143\n",
      "P-value: 1.0\n",
      "\n",
      "Lag: 79\n",
      "Ljung-Box test statistic: 9.569442306068765\n",
      "P-value: 1.0\n",
      "\n",
      "Lag: 80\n",
      "Ljung-Box test statistic: 9.621120059296222\n",
      "P-value: 1.0\n",
      "\n",
      "Lag: 81\n",
      "Ljung-Box test statistic: 9.661124890281483\n",
      "P-value: 1.0\n",
      "\n",
      "Lag: 82\n",
      "Ljung-Box test statistic: 9.692628214822097\n",
      "P-value: 1.0\n",
      "\n",
      "Lag: 83\n",
      "Ljung-Box test statistic: 9.924008431258859\n",
      "P-value: 1.0\n",
      "\n",
      "Lag: 84\n",
      "Ljung-Box test statistic: 10.968906243026318\n",
      "P-value: 1.0\n",
      "\n",
      "Lag: 85\n",
      "Ljung-Box test statistic: 13.720316545930544\n",
      "P-value: 1.0\n",
      "\n",
      "Lag: 86\n",
      "Ljung-Box test statistic: 13.781296604692157\n",
      "P-value: 1.0\n",
      "\n",
      "Lag: 87\n",
      "Ljung-Box test statistic: 14.01718712675079\n",
      "P-value: 1.0\n",
      "\n",
      "Lag: 88\n",
      "Ljung-Box test statistic: 14.045631748393374\n",
      "P-value: 1.0\n",
      "\n",
      "Lag: 89\n",
      "Ljung-Box test statistic: 14.781100004485094\n",
      "P-value: 1.0\n",
      "\n",
      "Lag: 90\n",
      "Ljung-Box test statistic: 15.545604649782426\n",
      "P-value: 1.0\n",
      "\n",
      "Lag: 91\n",
      "Ljung-Box test statistic: 23.78513502671208\n",
      "P-value: 0.9999999999999046\n",
      "\n",
      "Lag: 92\n",
      "Ljung-Box test statistic: 29.99934166389124\n",
      "P-value: 0.9999999998976797\n",
      "\n",
      "Lag: 93\n",
      "Ljung-Box test statistic: 30.245478818635153\n",
      "P-value: 0.9999999999251453\n",
      "\n",
      "Lag: 94\n",
      "Ljung-Box test statistic: 30.246518562933264\n",
      "P-value: 0.9999999999578034\n",
      "\n",
      "Lag: 95\n",
      "Ljung-Box test statistic: 30.534952124285706\n",
      "P-value: 0.9999999999677438\n",
      "\n",
      "Lag: 96\n",
      "Ljung-Box test statistic: 31.175390235813225\n",
      "P-value: 0.9999999999641529\n",
      "\n",
      "Lag: 97\n",
      "Ljung-Box test statistic: 31.42686160341387\n",
      "P-value: 0.9999999999736324\n",
      "\n",
      "Lag: 98\n",
      "Ljung-Box test statistic: 32.2101679981807\n",
      "P-value: 0.9999999999661366\n",
      "\n",
      "Lag: 99\n",
      "Ljung-Box test statistic: 32.27648357038352\n",
      "P-value: 0.999999999979438\n",
      "\n",
      "Lag: 100\n",
      "Ljung-Box test statistic: 32.45437580034631\n",
      "P-value: 0.9999999999859945\n",
      "\n"
     ]
    }
   ],
   "source": [
    "for lag in range(1, 101):\n",
    "    lag_results = sm.stats.acorr_ljungbox(model_arimax1.resid, lags=[lag], boxpierce=False)\n",
    "    print(f\"Lag: {lag}\\nLjung-Box test statistic: {lag_results.iloc[0, 0]}\\nP-value: {lag_results.iloc[0, 1]}\\n\")"
   ]
  },
  {
   "cell_type": "markdown",
   "id": "4fe44c30",
   "metadata": {},
   "source": [
    "- Não tivemos problemas de autocorrelação nos resíduos"
   ]
  },
  {
   "cell_type": "markdown",
   "id": "279f7b34",
   "metadata": {},
   "source": [
    "### Forecasting"
   ]
  },
  {
   "cell_type": "code",
   "execution_count": 100,
   "id": "8dbc8a0e",
   "metadata": {
    "ExecuteTime": {
     "end_time": "2023-09-10T21:27:52.719721Z",
     "start_time": "2023-09-10T21:27:52.694889Z"
    }
   },
   "outputs": [],
   "source": [
    "# Faça previsões para os próximos 8 períodos usando os regressores exógenos de teste\n",
    "forecast_arimax = model_arimax1.get_forecast(steps=8, exog=reg_teste)\n",
    "\n",
    "# Obtém as previsões e os intervalos de confiança\n",
    "forecast_values = forecast_arimax.predicted_mean\n",
    "forecast_ci = forecast_arimax.conf_int()"
   ]
  },
  {
   "cell_type": "code",
   "execution_count": 107,
   "id": "4f8ca2f8",
   "metadata": {
    "ExecuteTime": {
     "end_time": "2023-09-10T21:30:10.590572Z",
     "start_time": "2023-09-10T21:30:10.576568Z"
    }
   },
   "outputs": [
    {
     "data": {
      "text/plain": [
       "152    3.454463\n",
       "153    3.467656\n",
       "154    3.583495\n",
       "155    3.643659\n",
       "156    3.602473\n",
       "157    3.496850\n",
       "158    3.659272\n",
       "159    3.588524\n",
       "Name: predicted_mean, dtype: float64"
      ]
     },
     "execution_count": 107,
     "metadata": {},
     "output_type": "execute_result"
    }
   ],
   "source": [
    "forecast_arimax.predicted_mean"
   ]
  },
  {
   "cell_type": "code",
   "execution_count": 109,
   "id": "e7df93e3",
   "metadata": {
    "ExecuteTime": {
     "end_time": "2023-09-10T21:34:11.419108Z",
     "start_time": "2023-09-10T21:34:11.395102Z"
    }
   },
   "outputs": [
    {
     "name": "stdout",
     "output_type": "stream",
     "text": [
      "MAPE: 6.51 %\n",
      "MSE: 0.06\n"
     ]
    }
   ],
   "source": [
    "# Calcular o MAPE\n",
    "mape = mean_absolute_percentage_error(log_ts_test_price, forecast_arimax.predicted_mean)\n",
    "\n",
    "# Calcular o MSE\n",
    "mse = mean_squared_error(log_ts_test_price, forecast_arimax.predicted_mean)\n",
    "\n",
    "print(f'MAPE: {np.round(mape * 100,2)} %')\n",
    "print('MSE:', np.round(mse, 2))"
   ]
  },
  {
   "cell_type": "code",
   "execution_count": null,
   "id": "79f12483",
   "metadata": {},
   "outputs": [],
   "source": []
  },
  {
   "cell_type": "code",
   "execution_count": null,
   "id": "ff442c06",
   "metadata": {},
   "outputs": [],
   "source": []
  },
  {
   "cell_type": "code",
   "execution_count": null,
   "id": "9f967309",
   "metadata": {},
   "outputs": [],
   "source": []
  },
  {
   "cell_type": "code",
   "execution_count": null,
   "id": "b70a514d",
   "metadata": {},
   "outputs": [],
   "source": []
  },
  {
   "cell_type": "code",
   "execution_count": null,
   "id": "c09c4ada",
   "metadata": {},
   "outputs": [],
   "source": []
  }
 ],
 "metadata": {
  "kernelspec": {
   "display_name": "Python 3",
   "language": "python",
   "name": "python3"
  },
  "language_info": {
   "codemirror_mode": {
    "name": "ipython",
    "version": 3
   },
   "file_extension": ".py",
   "mimetype": "text/x-python",
   "name": "python",
   "nbconvert_exporter": "python",
   "pygments_lexer": "ipython3",
   "version": "3.8.8"
  },
  "toc": {
   "base_numbering": 1,
   "nav_menu": {},
   "number_sections": true,
   "sideBar": true,
   "skip_h1_title": false,
   "title_cell": "Table of Contents",
   "title_sidebar": "Contents",
   "toc_cell": false,
   "toc_position": {
    "height": "calc(100% - 180px)",
    "left": "10px",
    "top": "150px",
    "width": "237.6px"
   },
   "toc_section_display": true,
   "toc_window_display": true
  },
  "varInspector": {
   "cols": {
    "lenName": 16,
    "lenType": 16,
    "lenVar": 40
   },
   "kernels_config": {
    "python": {
     "delete_cmd_postfix": "",
     "delete_cmd_prefix": "del ",
     "library": "var_list.py",
     "varRefreshCmd": "print(var_dic_list())"
    },
    "r": {
     "delete_cmd_postfix": ") ",
     "delete_cmd_prefix": "rm(",
     "library": "var_list.r",
     "varRefreshCmd": "cat(var_dic_list()) "
    }
   },
   "types_to_exclude": [
    "module",
    "function",
    "builtin_function_or_method",
    "instance",
    "_Feature"
   ],
   "window_display": false
  }
 },
 "nbformat": 4,
 "nbformat_minor": 5
}
